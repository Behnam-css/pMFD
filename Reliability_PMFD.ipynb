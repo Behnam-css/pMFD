{
  "nbformat": 4,
  "nbformat_minor": 0,
  "metadata": {
    "colab": {
      "name": "Reliability_PMFD.ipynb",
      "provenance": [],
      "collapsed_sections": []
    },
    "kernelspec": {
      "name": "python3",
      "display_name": "Python 3"
    },
    "language_info": {
      "name": "python"
    }
  },
  "cells": [
    {
      "cell_type": "code",
      "source": [
        "import pandas as pd\n",
        "import numpy as np"
      ],
      "metadata": {
        "id": "u_fCTlPJ4ZrF"
      },
      "execution_count": 1,
      "outputs": []
    },
    {
      "cell_type": "markdown",
      "source": [
        "# نصب پکیج"
      ],
      "metadata": {
        "id": "Ao2IifmKvHnx"
      }
    },
    {
      "cell_type": "code",
      "source": [
        "!pip install hazm\n",
        "!pip install xlrd -U"
      ],
      "metadata": {
        "id": "9Gle7Qi-ebSd",
        "colab": {
          "base_uri": "https://localhost:8080/"
        },
        "outputId": "613abfae-7de6-457f-f0cd-ea8f1ee0a1c0"
      },
      "execution_count": 2,
      "outputs": [
        {
          "output_type": "stream",
          "name": "stdout",
          "text": [
            "Looking in indexes: https://pypi.org/simple, https://us-python.pkg.dev/colab-wheels/public/simple/\n",
            "Collecting hazm\n",
            "  Downloading hazm-0.7.0-py3-none-any.whl (316 kB)\n",
            "\u001b[K     |████████████████████████████████| 316 kB 4.6 MB/s \n",
            "\u001b[?25hCollecting libwapiti>=0.2.1\n",
            "  Downloading libwapiti-0.2.1.tar.gz (233 kB)\n",
            "\u001b[K     |████████████████████████████████| 233 kB 51.2 MB/s \n",
            "\u001b[?25hCollecting nltk==3.3\n",
            "  Downloading nltk-3.3.0.zip (1.4 MB)\n",
            "\u001b[K     |████████████████████████████████| 1.4 MB 41.2 MB/s \n",
            "\u001b[?25hRequirement already satisfied: six in /usr/local/lib/python3.7/dist-packages (from nltk==3.3->hazm) (1.15.0)\n",
            "Building wheels for collected packages: nltk, libwapiti\n",
            "  Building wheel for nltk (setup.py) ... \u001b[?25l\u001b[?25hdone\n",
            "  Created wheel for nltk: filename=nltk-3.3-py3-none-any.whl size=1394486 sha256=f22b2c9ddfb259ee923474157850334d409bf879bea9f772f79f38279b1c2f11\n",
            "  Stored in directory: /root/.cache/pip/wheels/9b/fd/0c/d92302c876e5de87ebd7fc0979d82edb93e2d8d768bf71fac4\n",
            "  Building wheel for libwapiti (setup.py) ... \u001b[?25l\u001b[?25hdone\n",
            "  Created wheel for libwapiti: filename=libwapiti-0.2.1-cp37-cp37m-linux_x86_64.whl size=153862 sha256=412d0ede34d42e2aac4946679993a77584c0ba6f7a66d17890de78535be0d963\n",
            "  Stored in directory: /root/.cache/pip/wheels/ab/b2/5b/0fe4b8f5c0e65341e8ea7bb3f4a6ebabfe8b1ac31322392dbf\n",
            "Successfully built nltk libwapiti\n",
            "Installing collected packages: nltk, libwapiti, hazm\n",
            "  Attempting uninstall: nltk\n",
            "    Found existing installation: nltk 3.2.5\n",
            "    Uninstalling nltk-3.2.5:\n",
            "      Successfully uninstalled nltk-3.2.5\n",
            "Successfully installed hazm-0.7.0 libwapiti-0.2.1 nltk-3.3\n",
            "Looking in indexes: https://pypi.org/simple, https://us-python.pkg.dev/colab-wheels/public/simple/\n",
            "Requirement already satisfied: xlrd in /usr/local/lib/python3.7/dist-packages (1.1.0)\n",
            "Collecting xlrd\n",
            "  Downloading xlrd-2.0.1-py2.py3-none-any.whl (96 kB)\n",
            "\u001b[K     |████████████████████████████████| 96 kB 3.1 MB/s \n",
            "\u001b[?25hInstalling collected packages: xlrd\n",
            "  Attempting uninstall: xlrd\n",
            "    Found existing installation: xlrd 1.1.0\n",
            "    Uninstalling xlrd-1.1.0:\n",
            "      Successfully uninstalled xlrd-1.1.0\n",
            "Successfully installed xlrd-2.0.1\n"
          ]
        }
      ]
    },
    {
      "cell_type": "code",
      "source": [
        "from collections import Counter\n",
        " \n",
        "def most_frequent(List):\n",
        "    occurence_count = Counter(List)\n",
        "    return occurence_count.most_common(1)[0][0]   \n",
        "\n",
        "\n",
        "import math\n",
        "def to_foundation(lab) : \n",
        "  foundation_labels=[]\n",
        "  for a in range(len(lab)): \n",
        "    if (lab[a]==1 or lab[a]==2):\n",
        "      foundation_labels.append(1)\n",
        "    elif (lab[a]==3 or lab[a]==4):\n",
        "      foundation_labels.append(2)\n",
        "    elif (lab[a]==5 or lab[a]==6):\n",
        "      foundation_labels.append(3)\n",
        "    elif (lab[a]==7 or lab[a]==8):\n",
        "      foundation_labels.append(4)\n",
        "    elif (lab[a]==9 or lab[a]==10):\n",
        "      foundation_labels.append(5)\n",
        "    elif (lab[a]==11 or lab[a]==12):\n",
        "      foundation_labels.append(6)\n",
        "    elif (lab[a]==13 or lab[a]==14):\n",
        "      foundation_labels.append(7)\n",
        "    elif (lab[a]==0):\n",
        "      foundation_labels.append(0)\n",
        "\n",
        "    #elif (not type(lab[a]) == int or float):\n",
        "      #foundation_labels.append(np.nan)\n",
        "  return foundation_labels "
      ],
      "metadata": {
        "id": "WGn4vQGACQdI"
      },
      "execution_count": 3,
      "outputs": []
    },
    {
      "cell_type": "markdown",
      "source": [
        "# بارگزاری فایل های مورد نیاز\n",
        "لطفا فایلهای\n",
        "MFD-v3.xls و pMFTC_V2.xls\n",
        "را انتخاب و آپلود کنید"
      ],
      "metadata": {
        "id": "4-zb72SOtvs-"
      }
    },
    {
      "cell_type": "code",
      "source": [
        "from google.colab import files\n",
        "uploaded = files.upload()"
      ],
      "metadata": {
        "colab": {
          "resources": {
            "http://localhost:8080/nbextensions/google.colab/files.js": {
              "data": "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",
              "ok": true,
              "headers": [
                [
                  "content-type",
                  "application/javascript"
                ]
              ],
              "status": 200,
              "status_text": ""
            }
          },
          "base_uri": "https://localhost:8080/",
          "height": 107
        },
        "id": "YKdT-lsoet2D",
        "outputId": "3d81b281-d484-4426-9a02-843861d49260"
      },
      "execution_count": 4,
      "outputs": [
        {
          "output_type": "display_data",
          "data": {
            "text/plain": [
              "<IPython.core.display.HTML object>"
            ],
            "text/html": [
              "\n",
              "     <input type=\"file\" id=\"files-8167a506-1618-4e83-9cd8-640f0585390e\" name=\"files[]\" multiple disabled\n",
              "        style=\"border:none\" />\n",
              "     <output id=\"result-8167a506-1618-4e83-9cd8-640f0585390e\">\n",
              "      Upload widget is only available when the cell has been executed in the\n",
              "      current browser session. Please rerun this cell to enable.\n",
              "      </output>\n",
              "      <script src=\"/nbextensions/google.colab/files.js\"></script> "
            ]
          },
          "metadata": {}
        },
        {
          "output_type": "stream",
          "name": "stdout",
          "text": [
            "Saving MFD-v3.xls to MFD-v3.xls\n",
            "Saving pMFTC_V2.xlsx to pMFTC_V2.xlsx\n"
          ]
        }
      ]
    },
    {
      "cell_type": "code",
      "source": [
        "#finding duplicate item in MFD\n",
        "\n",
        "'''\n",
        "\n",
        "xl = pd.ExcelFile('MFD-v3.xls')\n",
        "f=xl.sheet_names  # see all sheet names\n",
        "\n",
        "\n",
        "df = pd.DataFrame(columns=['words'])\n",
        "for k,item in enumerate(f):\n",
        "  df2= pd.read_excel('MFD-v3.xls', sheet_name=str(item))\n",
        "  df2['foundation']=pd.Series((k+1)*np.ones(len(df2)))\n",
        "  df=pd.concat([df, df2])\n",
        "\n",
        "words=df['words'].tolist()\n",
        "ind=df['foundation'].tolist()\n",
        "for i,k in enumerate(words):\n",
        "  if words.count(k)>1:\n",
        "    indf=df['foundation'][df['words']==k].tolist()\n",
        "    if len(indf)!=len(set(indf)):\n",
        "      print(k)  \n",
        "\n",
        "\n",
        "len(set(words))      \n",
        "'''"
      ],
      "metadata": {
        "id": "f681xcm3X-T7"
      },
      "execution_count": 149,
      "outputs": []
    },
    {
      "cell_type": "code",
      "source": [
        ""
      ],
      "metadata": {
        "colab": {
          "base_uri": "https://localhost:8080/"
        },
        "id": "ipbyxVDRTi-G",
        "outputId": "a09040dc-e4f0-4dad-fc8c-66fc3b93c899"
      },
      "execution_count": 151,
      "outputs": [
        {
          "output_type": "execute_result",
          "data": {
            "text/plain": [
              "1700"
            ]
          },
          "metadata": {},
          "execution_count": 151
        }
      ]
    },
    {
      "cell_type": "markdown",
      "source": [
        "# فقط اجرا کنید"
      ],
      "metadata": {
        "id": "XTNiJBgCu18k"
      }
    },
    {
      "cell_type": "code",
      "execution_count": 5,
      "metadata": {
        "id": "ObEA-PdIeQwl"
      },
      "outputs": [],
      "source": [
        "# -*- coding: utf-8 -*-\n",
        "\"\"\"\n",
        "Created on Wed Jan 19 22:42:33 2022\n",
        "\n",
        "@author: Admin\n",
        "\"\"\"\n",
        "\n",
        "from tkinter import *\n",
        "import pandas as pd\n",
        "import numpy as np\n",
        "from termcolor import colored\n",
        "from hazm import *\n",
        "import re\n",
        "import random\n",
        "\n",
        "\n",
        "normalizer = Normalizer()\n",
        "lemmatizer = Lemmatizer()\n",
        "stemmer = Stemmer()\n",
        "\n",
        "dft= pd.read_excel('pMFTC_V2.xlsx')\n",
        "\n",
        "xl = pd.ExcelFile('MFD-v3.xls')\n",
        "f=xl.sheet_names  # see all sheet names\n",
        "\n",
        "\n",
        "df = pd.DataFrame(columns=['words'])\n",
        "for k,item in enumerate(f):\n",
        "  df2= pd.read_excel('MFD-v3.xls', sheet_name=str(item))\n",
        "  df2['foundation']=pd.Series((k+1)*np.ones(len(df2)))\n",
        "  df=pd.concat([df, df2])\n",
        "\n",
        "sf=[]\n",
        "for i in range(14):\n",
        "    ff=df[df['foundation']==i+1]\n",
        "    sf.append(ff)\n",
        "    \n",
        "def text_preprocessing(text):\n",
        "    \"\"\"\n",
        "    - Remove entity mentions (eg. '@united')\n",
        "    - Correct errors (eg. '&amp;' to '&')\n",
        "    @param    text (str): a string to be processed.\n",
        "    @return   text (Str): the processed string.\n",
        "    \"\"\"\n",
        "    # Remove '@name'\n",
        "    text = re.sub(r'(@.*?)[\\s]', ' ', text)\n",
        "\n",
        "    # Replace '&amp;' with '&'\n",
        "    text = re.sub(r'&amp;', '&', text)\n",
        "    \n",
        "    # Remove URL\n",
        "    text = re.sub(r\"http\\S+\", \"\", text)\n",
        "    \n",
        "    # Remove Hashtag\n",
        "    text = re.sub(r\"#\\S+\", \"\", text)\n",
        "\n",
        "    # Remove trailing whitespace\n",
        "    text = re.sub(r'\\s+', ' ', text).strip()\n",
        "    \n",
        "    # Remove non character \n",
        "    text=re.sub(r'[\\W_]+',' ', text)\n",
        "\n",
        "   # Remove  number\n",
        "    text = re.sub(\" \\d+\", \" \", text)\n",
        "\n",
        "    output = re.sub(r'\\s*[A-Za-z]+\\b', '' , text)\n",
        "    text = output.rstrip()\n",
        "\n",
        "    persian = ['۰', '۱', '۲', '۳', '۴', '۵', '۶', '۷', '۸', '۹'];\n",
        "    for u in persian:\n",
        "        text = re.sub(u, \"\", text);\n",
        "\n",
        "\n",
        "    text = re.sub(\"کووید\", \" \", text)\n",
        "    text = re.sub(\"کرونا\", \" \", text)\n",
        "    text = re.sub(\"ویروس\", \" \", text)\n",
        "    \n",
        "    \n",
        "\n",
        "    return text\n",
        "\n",
        "mfd=df['words'].values.tolist() \n",
        "\n",
        "\n",
        "def removeDuplicates(S):\n",
        "  st = []\n",
        "  i = 0\n",
        "  while i < len(S):\n",
        "      if len(st)!=0 and st[-1]==S[i]:\n",
        "        i+=1\n",
        "        st.pop(-1)\n",
        "      else:\n",
        "        st.append(S[i])\n",
        "        i+=1\n",
        "  return \"\".join(i for i in st)\n",
        "\n",
        "\n",
        "\n",
        "\n",
        "def pmfd(s):\n",
        "  s=text_preprocessing(s)\n",
        "  n=normalizer.normalize(s)\n",
        "  t1=sent_tokenize(n)\n",
        "\n",
        "  #n.split()\n",
        "  t2=word_tokenize (t1[0])\n",
        "  t3=[removeDuplicates(i) for i in t2]\n",
        "  print(colored('The Preprocessed text:','blue'))\n",
        "  print(' '.join(t3))\n",
        "  print('')   \n",
        "  print('') \n",
        "  N=3\n",
        "  grams = [t3[i:i+N] for i in range(len(t3)-N+1)]\n",
        " \n",
        "  a1=[grams[k][0]+' '+grams[k][1]+' '+grams[k][2] for k in range(len(grams))]\n",
        "  \n",
        "\n",
        "  '''\n",
        "  from nltk import ngrams\n",
        "\n",
        "  sentence = 'this is a foo bar sentences and i want to ngramize it'\n",
        "\n",
        "  n = 6\n",
        "  sixgrams = ngrams(sentence.split(), n)\n",
        "\n",
        "  for grams in sixgrams:\n",
        "    print (grams)\n",
        "    \n",
        "  ''' \n",
        "  moral_words=[w  for w in t3  if ((stemmer.stem(w)in mfd) or (lemmatizer.lemmatize(w)in mfd))]+[w  for w in a1  if stemmer.stem(w) in mfd]\n",
        "\n",
        "  f_count=[]\n",
        "  for h in range (len(moral_words)):\n",
        "    fo=(df[df['words']==lemmatizer.lemmatize(moral_words[h])])['foundation'].tolist()\n",
        "    \n",
        "    if fo:\n",
        "        fz=[]\n",
        "        for j in range(len(fo)):\n",
        "            fz.append(fo[j])  \n",
        "        f_count=[fz]+f_count\n",
        "   \n",
        "  flat_list = [item for sublist in f_count for item in sublist]   \n",
        "  flat_list=[int(g) for g in flat_list]\n",
        "  f_name=[f[g-1] for g in flat_list]\n",
        "  f_dic = {i:flat_list.count(i) for i in flat_list}\n",
        "  f_dict = {i:f_name.count(i) for i in f_name}\n",
        "\n",
        "  my_dic={}\n",
        "  for k in range(len(list(f_dic.keys()))):      \n",
        "    hk=[]\n",
        "    for a in range(len(moral_words)):\n",
        "        if ((lemmatizer.lemmatize(moral_words[a]) in sf[list(f_dic.keys())[k]-1]['words'].tolist()) or (stemmer.stem(moral_words[a]) in sf[list(f_dic.keys())[k]-1]['words'].tolist()))  :\n",
        "            hk=[moral_words[a]]+hk              \n",
        "    my_dic[str(f[list(f_dic.keys())[k]-1])]=[hk]   \n",
        "  return moral_words,f_dict,my_dic\n"
      ]
    },
    {
      "cell_type": "code",
      "source": [
        "def print_results(s):\n",
        "  print(colored('The tweet is: ','blue'))    \n",
        "  print(s)\n",
        "  print('')   \n",
        "  print('') \n",
        "  moral_words,f_dict,my_dic=pmfd(s)\n",
        "  if(moral_words):\n",
        "      \n",
        "      print(colored('Moral Words:','red'))\n",
        "      moral_words=[re.sub(r\"\\u200c\\S+\", \"\", v) for v in moral_words]\n",
        "      moral_words=[v.replace('\\u200c', ' ') for v in moral_words]\n",
        "      \n",
        "      print(str(list(set(moral_words))))\n",
        "      \n",
        "      print('\\n')\n",
        "    \n",
        "      \n",
        "      print(colored('Number of time each Foundation is addressed in the tweet:','red'))\n",
        "      print(str(f_dict))\n",
        "      print('\\n')       \n",
        "      \n",
        "      print(colored('Foundation related words:','red'))\n",
        "      print('\\n')\n",
        "      for i in range(len(my_dic)):\n",
        "          \n",
        "          dic_key = list(my_dic)[i]        \n",
        "          dic_val = list(my_dic.values())[i] \n",
        "      \n",
        "          print(colored(str(dic_key)+':','magenta'))\n",
        "          dv=[re.sub(r\"\\u200c\\S+\", \"\", v) for v in dic_val[0]]\n",
        "          dv=[v.replace('\\u200c', ' ') for v in dv]\n",
        "          print(colored(str(list(set(dv)))))\n",
        "     \n",
        "          \n",
        "          \n",
        "\n",
        "      \n",
        "      \n",
        "      print('\\n'+'----------------')\n",
        "      \n",
        "  else:\n",
        "      \n",
        "      print('No MF words found!'+'\\n'+'----------------')\n",
        "    "
      ],
      "metadata": {
        "id": "3RVrEgx4hPgI"
      },
      "execution_count": 6,
      "outputs": []
    },
    {
      "cell_type": "markdown",
      "source": [
        "# انتخاب تصادفی متن توییت\n",
        "\n"
      ],
      "metadata": {
        "id": "8CWnvCbjsgWt"
      }
    },
    {
      "cell_type": "code",
      "source": [
        "k=random.randint(0,len(dft))\n",
        "s =dft['Tweet'][k]\n",
        "print(colored('tweet #no: '+str(k),'cyan'))\n",
        "print('')\n",
        "print_results(s)"
      ],
      "metadata": {
        "colab": {
          "base_uri": "https://localhost:8080/"
        },
        "id": "mMUfNEJ8eqml",
        "outputId": "c1d16982-f384-4679-bbf6-525075c052bb"
      },
      "execution_count": 7,
      "outputs": [
        {
          "output_type": "stream",
          "name": "stdout",
          "text": [
            "\u001b[36mtweet #no: 4258\u001b[0m\n",
            "\n",
            "\u001b[34mThe tweet is: \u001b[0m\n",
            "فقط نظاره گر باشید با یک دلسوزی عوام فریبانه سعی در فروش واکسن های تولیدی شرکت های جهان وطنی را به ملت ها دارند\n",
            "\n",
            "\n",
            "\u001b[34mThe Preprocessed text:\u001b[0m\n",
            "فقط نظاره‌گر باشید با یک دلسوزی عوام فریبانه سعی در فروش واکسن‌های تولیدی شرکت‌های جهان وطنی را به ملت‌ها دارند\n",
            "\n",
            "\n",
            "\u001b[31mMoral Words:\u001b[0m\n",
            "['ملت', 'وطنی']\n",
            "\n",
            "\n",
            "\u001b[31mNumber of time each Foundation is addressed in the tweet:\u001b[0m\n",
            "{'Loyalty_Virtue': 2}\n",
            "\n",
            "\n",
            "\u001b[31mFoundation related words:\u001b[0m\n",
            "\n",
            "\n",
            "\u001b[35mLoyalty_Virtue:\u001b[0m\n",
            "['ملت', 'وطنی']\u001b[0m\n",
            "\n",
            "----------------\n"
          ]
        }
      ]
    },
    {
      "cell_type": "markdown",
      "source": [
        "# پردازش متن دلخواه"
      ],
      "metadata": {
        "id": "eRGt7zvftIoo"
      }
    },
    {
      "cell_type": "code",
      "source": [
        "s='   و خانواده اش مراقبت شدید خیانت ها مراقبت ها آواره  ها'\n",
        "print_results(s)"
      ],
      "metadata": {
        "id": "oCt_R-0Zl6OT",
        "colab": {
          "base_uri": "https://localhost:8080/"
        },
        "outputId": "533e8784-ebe5-4483-d91e-adc0455d8e94"
      },
      "execution_count": 8,
      "outputs": [
        {
          "output_type": "stream",
          "name": "stdout",
          "text": [
            "\u001b[34mThe tweet is: \u001b[0m\n",
            "   و خانواده اش مراقبت شدید خیانت ها مراقبت ها آواره  ها\n",
            "\n",
            "\n",
            "\u001b[34mThe Preprocessed text:\u001b[0m\n",
            "و خانواده‌اش مراقبت شدید خیانت‌ها مراقبت‌ها آواره‌ها\n",
            "\n",
            "\n",
            "\u001b[31mMoral Words:\u001b[0m\n",
            "['خانواده', 'خیانت', 'آواره', 'مراقبت']\n",
            "\n",
            "\n",
            "\u001b[31mNumber of time each Foundation is addressed in the tweet:\u001b[0m\n",
            "{'Purity_Vice': 1, 'Care_Virtue': 2, 'Loyalty_Vice': 1, 'Loyalty_Virtue': 1}\n",
            "\n",
            "\n",
            "\u001b[31mFoundation related words:\u001b[0m\n",
            "\n",
            "\n",
            "\u001b[35mPurity_Vice:\u001b[0m\n",
            "['آواره']\u001b[0m\n",
            "\u001b[35mCare_Virtue:\u001b[0m\n",
            "['مراقبت']\u001b[0m\n",
            "\u001b[35mLoyalty_Vice:\u001b[0m\n",
            "['خیانت']\u001b[0m\n",
            "\u001b[35mLoyalty_Virtue:\u001b[0m\n",
            "['خانواده']\u001b[0m\n",
            "\n",
            "----------------\n"
          ]
        }
      ]
    },
    {
      "cell_type": "code",
      "source": [
        "ee='می پرستند'\n",
        "print(stemmer.stem(ee))\n",
        "print(lemmatizer.lemmatize(ee))"
      ],
      "metadata": {
        "id": "p-JNSukTtF3n",
        "colab": {
          "base_uri": "https://localhost:8080/"
        },
        "outputId": "8107d267-0a16-4ca8-bbc3-87a6d8170e22"
      },
      "execution_count": 9,
      "outputs": [
        {
          "output_type": "stream",
          "name": "stdout",
          "text": [
            "می پرستند\n",
            "می پرستند\n"
          ]
        }
      ]
    },
    {
      "cell_type": "markdown",
      "source": [
        ""
      ],
      "metadata": {
        "id": "xWVPJcCE-1j7"
      }
    },
    {
      "cell_type": "code",
      "source": [
        "#tweets in dataset related to each foundation\n",
        "Care_dat=dft.loc[dft['Label']==1]['Tweet'].tolist()\n",
        "Fairness_dat=dft.loc[dft['Label']==2]['Tweet'].tolist()\n",
        "Loyalty_dat=dft.loc[dft['Label']==3]['Tweet'].tolist()\n",
        "Authority_dat=dft.loc[dft['Label']==4]['Tweet'].tolist()\n",
        "Purity_dat=dft.loc[dft['Label']==5]['Tweet'].tolist()\n",
        "Freedom_dat=dft.loc[dft['Label']==6]['Tweet'].tolist()\n",
        "Qeirat_dat=dft.loc[dft['Label']==7]['Tweet'].tolist()"
      ],
      "metadata": {
        "id": "11yo6LZzcvAC"
      },
      "execution_count": 10,
      "outputs": []
    },
    {
      "cell_type": "code",
      "source": [
        "#words in MFD related to each foundation\n",
        "array=[1,2]\n",
        "Care_MFD=df.loc[df['foundation'].isin(array)]['words'].tolist()\n",
        "array=[3,4]\n",
        "Fairness_MFD=df.loc[df['foundation'].isin(array)]['words'].tolist()\n",
        "array=[5,6]\n",
        "Loyalty_MFD=df.loc[df['foundation'].isin(array)]['words'].tolist()\n",
        "array=[7,8]\n",
        "Authority_MFD=df.loc[df['foundation'].isin(array)]['words'].tolist()\n",
        "array=[9,10]\n",
        "Purity_MFD=df.loc[df['foundation'].isin(array)]['words'].tolist()\n",
        "array=[11,12]\n",
        "Freedom_MFD=df.loc[df['foundation'].isin(array)]['words'].tolist()\n",
        "array=[13,14]\n",
        "Qeirat_MFD=df.loc[df['foundation'].isin(array)]['words'].tolist()\n",
        "\n",
        "print(len(Care_MFD))\n",
        "print(len(Fairness_MFD))\n",
        "print(len(Loyalty_MFD))\n",
        "print(len(Authority_MFD))\n",
        "print(len(Purity_MFD))\n",
        "print(len(Freedom_MFD))\n",
        "print(len(Qeirat_MFD))\n",
        "\n",
        "\n",
        "\n",
        "len_fon_vv=[len(df[df['foundation']==1]),len(df[df['foundation']==2]),len(df[df['foundation']==3]),len(df[df['foundation']==4]),\n",
        "            len(df[df['foundation']==5]),len(df[df['foundation']==6]),len(df[df['foundation']==7]),len(df[df['foundation']==8]),\n",
        "            len(df[df['foundation']==9]),len(df[df['foundation']==10]),len(df[df['foundation']==11]),len(df[df['foundation']==12]),\n",
        "            len(df[df['foundation']==13]),len(df[df['foundation']==14])]\n",
        "len_fon=[len(Care_MFD),len(Fairness_MFD),len(Loyalty_MFD),len(Authority_MFD),len(Purity_MFD),len(Freedom_MFD),len(Qeirat_MFD)]"
      ],
      "metadata": {
        "colab": {
          "base_uri": "https://localhost:8080/"
        },
        "id": "Dkq-m68DgFfy",
        "outputId": "f4111632-1f96-40d9-8347-de2996ec7237"
      },
      "execution_count": 11,
      "outputs": [
        {
          "output_type": "stream",
          "name": "stdout",
          "text": [
            "374\n",
            "182\n",
            "181\n",
            "318\n",
            "455\n",
            "197\n",
            "80\n"
          ]
        }
      ]
    },
    {
      "cell_type": "code",
      "source": [
        "print(len(df[df['foundation']==1]))\n",
        "print(len(df[df['foundation']==2]))\n",
        "print(len(df[df['foundation']==3]))\n",
        "print(len(df[df['foundation']==4]))\n",
        "print(len(df[df['foundation']==5]))\n",
        "print(len(df[df['foundation']==6]))\n",
        "print(len(df[df['foundation']==7]))\n",
        "print(len(df[df['foundation']==8]))\n",
        "print(len(df[df['foundation']==9]))\n",
        "print(len(df[df['foundation']==10]))\n",
        "print(len(df[df['foundation']==11]))\n",
        "print(len(df[df['foundation']==12]))\n",
        "print(len(df[df['foundation']==13]))\n",
        "print(len(df[df['foundation']==14]))"
      ],
      "metadata": {
        "colab": {
          "base_uri": "https://localhost:8080/"
        },
        "id": "dZ2T7yswPqhm",
        "outputId": "4e8f277d-61e6-439d-bf37-42114960acb1"
      },
      "execution_count": 12,
      "outputs": [
        {
          "output_type": "stream",
          "name": "stdout",
          "text": [
            "102\n",
            "272\n",
            "73\n",
            "109\n",
            "109\n",
            "72\n",
            "216\n",
            "102\n",
            "226\n",
            "229\n",
            "79\n",
            "118\n",
            "58\n",
            "22\n"
          ]
        }
      ]
    },
    {
      "cell_type": "code",
      "source": [
        "def moral_words(s):                      #extracting  foundations which indicated indicated in sentence\n",
        "  s=text_preprocessing(s)\n",
        "  n=normalizer.normalize(s)\n",
        "  t1=sent_tokenize(n)\n",
        "\n",
        "  #n.split()\n",
        "  t2=word_tokenize (t1[0])\n",
        "  t3=[removeDuplicates(i) for i in t2]\n",
        "  '''\n",
        "  print(colored('The Preprocessed text:','blue'))\n",
        "  print(' '.join(t3))\n",
        "  print('')   \n",
        "  print('') \n",
        "  '''\n",
        "  N=3\n",
        "  grams = [t3[i:i+N] for i in range(len(t3)-N+1)]\n",
        "\n",
        "  a1=[grams[k][0]+' '+grams[k][1]+' '+grams[k][2] for k in range(len(grams))]\n",
        "\n",
        "  moral_words=[w  for w in t3  if ((stemmer.stem(w)in mfd) or (lemmatizer.lemmatize(w)in mfd))]+[w  for w in a1  if stemmer.stem(w) in mfd]\n",
        "\n",
        "  f_count=[]\n",
        "  for h in range (len(moral_words)):\n",
        "    fo=(df[df['words']==lemmatizer.lemmatize(moral_words[h])])['foundation'].tolist()\n",
        "    \n",
        "    if fo:\n",
        "        fz=[]\n",
        "        for j in range(len(fo)):\n",
        "            fz.append(fo[j])  \n",
        "        f_count=[fz]+f_count\n",
        "\n",
        "\n",
        "  flat_list = [item for sublist in f_count for item in sublist]   \n",
        "  flat_list=[int(g) for g in flat_list]\n",
        "\n",
        "  return flat_list\n",
        "\n",
        "\n",
        "\n",
        "\n",
        "\n",
        "from collections import Counter\n",
        " \n",
        "def most_frequent(List):\n",
        "    occurence_count = Counter(List)\n",
        "    if not occurence_count:\n",
        "      mc=0\n",
        "    else:\n",
        "      mc=occurence_count.most_common(1)[0][0]\n",
        "    return mc"
      ],
      "metadata": {
        "id": "_hj4Gtw8lCOJ"
      },
      "execution_count": 13,
      "outputs": []
    },
    {
      "cell_type": "code",
      "source": [
        "moral_words(Care_dat[1421])"
      ],
      "metadata": {
        "colab": {
          "base_uri": "https://localhost:8080/"
        },
        "id": "u2JAG4BDhr7C",
        "outputId": "b9ef12f5-5e17-4695-af28-57ef6b19e81b"
      },
      "execution_count": 14,
      "outputs": [
        {
          "output_type": "execute_result",
          "data": {
            "text/plain": [
              "[9]"
            ]
          },
          "metadata": {},
          "execution_count": 14
        }
      ]
    },
    {
      "cell_type": "markdown",
      "source": [
        "Prediction with bag of word (counting MF related words and max voting)\n",
        "\n"
      ],
      "metadata": {
        "id": "Jve7J1DmQD0V"
      }
    },
    {
      "cell_type": "code",
      "source": [
        "\n",
        "def bow(dat): \n",
        "  t=[]                                        \n",
        "  res=list(map(moral_words,dat))\n",
        "  \n",
        "  # percentage of predicted class with most frequent\n",
        "  pred_clas=list(map(most_frequent,res))\n",
        "   \n",
        "  return pred_clas\n",
        "  "
      ],
      "metadata": {
        "id": "rrwv_m2rMZH0"
      },
      "execution_count": 15,
      "outputs": []
    },
    {
      "cell_type": "code",
      "source": [
        "labb=dft.Label.values.tolist()\n",
        "tww=dft.Tweet.values.tolist()"
      ],
      "metadata": {
        "id": "s-QSBPQAmNbz"
      },
      "execution_count": 16,
      "outputs": []
    },
    {
      "cell_type": "code",
      "source": [
        "predicted_with_bow=bow(tww)\n",
        "pred_foundation_with_bow=to_foundation(predicted_with_bow)"
      ],
      "metadata": {
        "id": "mLr8APSoMyHx"
      },
      "execution_count": null,
      "outputs": []
    },
    {
      "cell_type": "code",
      "source": [
        "from sklearn.metrics import classification_report\n",
        "\n",
        "print(classification_report(labb, pred_foundation_with_bow))\n",
        " "
      ],
      "metadata": {
        "id": "AjEPOMLqPq_2",
        "colab": {
          "base_uri": "https://localhost:8080/"
        },
        "outputId": "57ee5027-cdc4-4d40-97dc-1da13686fb81"
      },
      "execution_count": null,
      "outputs": [
        {
          "output_type": "stream",
          "name": "stdout",
          "text": [
            "              precision    recall  f1-score   support\n",
            "\n",
            "           0       0.53      0.33      0.40      1873\n",
            "           1       0.61      0.44      0.51      2059\n",
            "           2       0.51      0.33      0.40       864\n",
            "           3       0.34      0.47      0.39       461\n",
            "           4       0.18      0.50      0.26       395\n",
            "           5       0.17      0.56      0.27       181\n",
            "           6       0.09      0.36      0.14        99\n",
            "           7       0.54      0.53      0.53        66\n",
            "\n",
            "    accuracy                           0.40      5998\n",
            "   macro avg       0.37      0.44      0.36      5998\n",
            "weighted avg       0.50      0.40      0.42      5998\n",
            "\n"
          ]
        }
      ]
    },
    {
      "cell_type": "code",
      "source": [
        "import numpy as np\n",
        "import matplotlib.pyplot as plt\n",
        "import re\n",
        "\n",
        "def ratio(dat,ss):                                         \n",
        "  res=list(map(moral_words,dat))\n",
        "  \n",
        "  # percentage of predicted class with most frequent\n",
        "  pred_clas=list(map(most_frequent,res))\n",
        "  mm = {i:pred_clas.count(i) for i in pred_clas}\n",
        "  m=np.zeros(15)\n",
        "  for k in range(15):\n",
        "    if k in mm:\n",
        "      m[k]=mm[k]\n",
        "\n",
        "  print (m)\n",
        "\n",
        "  total_len=len(dat)\n",
        "  \n",
        "  '''\n",
        "  # percentage of dictionary foundation related words\n",
        "  flat_res = [item for sublist in res for item in sublist]  \n",
        "  m=Counter(flat_res)\n",
        "  total_len=len(flat_res)\n",
        "  '''\n",
        "  \n",
        "\n",
        "\n",
        "  c_p=(m[1]+m[2])/total_len\n",
        "  f_p=(m[3]+m[4])/total_len\n",
        "  l_p=(m[5]+m[6])/total_len\n",
        "  a_p=(m[7]+m[8])/total_len\n",
        "  p_p=(m[9]+m[10])/total_len\n",
        "  fr_p=(m[11]+m[12])/total_len\n",
        "  q_p=(m[13]+m[14])/total_len\n",
        "\n",
        "\n",
        "\n",
        "\n",
        "\n",
        "  courses = ['Care','Fairness','Loyalty','Authority','Purity','Freedom','Qeirat']\n",
        "  values = [c_p*100,f_p*100,l_p*100,a_p*100,p_p*100,fr_p*100,q_p*100]\n",
        "\n",
        "  fig = plt.figure(figsize = (10, 5))\n",
        "\n",
        "  # creating the bar plot\n",
        "  plt.bar(courses, values)\n",
        "\n",
        "  plt.xlabel(\"Moral Foundations\")\n",
        "  plt.ylabel(\"Percentage of predicted Foundations \")\n",
        "\n",
        "  plt.title(ss)\n",
        "  plt.show()\n",
        "  return pred_clas\n"
      ],
      "metadata": {
        "id": "bOpG4-C-kIGU"
      },
      "execution_count": 28,
      "outputs": []
    },
    {
      "cell_type": "code",
      "source": [
        "pred_clas=ratio(Freedom_dat,'Freedom')\n"
      ],
      "metadata": {
        "colab": {
          "base_uri": "https://localhost:8080/",
          "height": 367
        },
        "id": "Y0KeRBqcvZ3c",
        "outputId": "9d8e30e6-dbd9-4428-8722-bafacd4aa484"
      },
      "execution_count": 29,
      "outputs": [
        {
          "output_type": "stream",
          "name": "stdout",
          "text": [
            "[ 6. 12.  6.  4.  2.  5.  0. 15.  4.  6.  3. 11. 25.  0.  0.]\n"
          ]
        },
        {
          "output_type": "display_data",
          "data": {
            "text/plain": [
              "<Figure size 720x360 with 1 Axes>"
            ],
            "image/png": "[encoded data removed]"
          },
          "metadata": {
            "needs_background": "light"
          }
        }
      ]
    },
    {
      "cell_type": "code",
      "source": [
        "i=7\n",
        "r1,r2,r3=pmfd(Fairness_dat[i])\n",
        "print(r1)\n",
        "print(pred_clas[i])"
      ],
      "metadata": {
        "colab": {
          "base_uri": "https://localhost:8080/"
        },
        "id": "_FexHXIFoVxF",
        "outputId": "dea095dd-4c3d-4aed-c595-e9b2d5cda78f"
      },
      "execution_count": null,
      "outputs": [
        {
          "output_type": "stream",
          "name": "stdout",
          "text": [
            "\u001b[34mThe Preprocessed text:\u001b[0m\n",
            "وکالت کسب و کار نیست نیاز به تخ تعهد و دانش دارد مجمع نمایندگان استان خوزستان اجازه ندهند با این طرح عدالت\n",
            "\n",
            "\n",
            "['تعهد', 'مجمع', 'اجازه', 'عدالت']\n",
            "1\n"
          ]
        }
      ]
    },
    {
      "cell_type": "markdown",
      "source": [
        "Classification with bag of words feature obtained with counting foundation related words in each tweet"
      ],
      "metadata": {
        "id": "fM4cGesUCwmp"
      }
    },
    {
      "cell_type": "code",
      "source": [
        "tw=dft.Tweet.values\n",
        "lab=dft.Label.values"
      ],
      "metadata": {
        "id": "Q1FGP4WcyUc6"
      },
      "execution_count": null,
      "outputs": []
    },
    {
      "cell_type": "code",
      "source": [
        "from tqdm import tqdm\n",
        "def extrac_feat(dat):      #extracting most  founadtions indicated in each tweet of dataset\n",
        "  all_feat=[]\n",
        "  for p in tqdm(range(len(dat))):\n",
        "    feat=np.zeros(15)\n",
        "    for k in range(15):\n",
        "      feat[k]=Counter(moral_words(dat[p]))[k]\n",
        "    #print(feat) \n",
        "    all_feat.append(feat) \n",
        "  return all_feat  \n",
        "\n"
      ],
      "metadata": {
        "id": "a7DNzss9bM27"
      },
      "execution_count": null,
      "outputs": []
    },
    {
      "cell_type": "code",
      "source": [
        "x_feat=extrac_feat(tw)"
      ],
      "metadata": {
        "colab": {
          "base_uri": "https://localhost:8080/"
        },
        "id": "5uNPW89Pa_89",
        "outputId": "24f80904-14c2-4f87-d437-c67e12a75a85"
      },
      "execution_count": null,
      "outputs": [
        {
          "output_type": "stream",
          "name": "stderr",
          "text": [
            "100%|██████████| 5998/5998 [05:47<00:00, 17.25it/s]\n"
          ]
        }
      ]
    },
    {
      "cell_type": "code",
      "source": [
        "final_feat=[]\n",
        "for k in tqdm(range(len(x_feat))):\n",
        "  ll=x_feat[k]\n",
        "  morality=ll[0]\n",
        "  l=np.delete(ll, [0], None)\n",
        "  n_l=l.reshape(-1,2).sum(axis=1)\n",
        "  n_l=n_l.tolist()\n",
        "  n_l=[morality]+n_l\n",
        "  final_feat.append(n_l)\n"
      ],
      "metadata": {
        "colab": {
          "base_uri": "https://localhost:8080/"
        },
        "id": "QDUcbKf67Gx1",
        "outputId": "bcef1d8e-1303-4a06-83a6-3b443fe61c66"
      },
      "execution_count": null,
      "outputs": [
        {
          "output_type": "stream",
          "name": "stderr",
          "text": [
            "100%|██████████| 5998/5998 [00:00<00:00, 56237.59it/s]\n"
          ]
        }
      ]
    },
    {
      "cell_type": "code",
      "source": [
        "final_feat_without=[(np.delete(k, [0], None)).tolist() for k in final_feat]\n"
      ],
      "metadata": {
        "id": "sLqpQO9Tw2aQ"
      },
      "execution_count": null,
      "outputs": []
    },
    {
      "cell_type": "code",
      "source": [
        "from sklearn.model_selection import train_test_split\n",
        "x_train, x_test, y_train, y_test = train_test_split(final_feat_without, lab, test_size=0.1, random_state=42)"
      ],
      "metadata": {
        "id": "lhYBRSJqmwkJ"
      },
      "execution_count": null,
      "outputs": []
    },
    {
      "cell_type": "code",
      "source": [
        "from sklearn import svm\n",
        "clf = svm.SVC(decision_function_shape='ovo').fit(x_train, y_train)\n"
      ],
      "metadata": {
        "id": "t7gkXqqUjv8g"
      },
      "execution_count": null,
      "outputs": []
    },
    {
      "cell_type": "code",
      "source": [
        "from sklearn.linear_model import LogisticRegression\n",
        "\n",
        "#clf = LogisticRegression(random_state=0).fit(x_train, y_train)\n"
      ],
      "metadata": {
        "id": "YUY064uByKoI"
      },
      "execution_count": null,
      "outputs": []
    },
    {
      "cell_type": "code",
      "source": [
        "print('Classification Report for multiclass')\n",
        "print()\n",
        "from sklearn.metrics import classification_report\n",
        "y_pred=clf.predict(x_test)\n",
        "print(classification_report(y_test, y_pred))"
      ],
      "metadata": {
        "colab": {
          "base_uri": "https://localhost:8080/"
        },
        "id": "A-loTMn_lfDP",
        "outputId": "7bf70c84-ac58-4175-c591-3eda5841ad27"
      },
      "execution_count": null,
      "outputs": [
        {
          "output_type": "stream",
          "name": "stdout",
          "text": [
            "Classification Report for multiclass\n",
            "\n",
            "              precision    recall  f1-score   support\n",
            "\n",
            "           0       0.38      0.57      0.46       174\n",
            "           1       0.48      0.46      0.47       212\n",
            "           2       0.54      0.37      0.44        83\n",
            "           3       0.42      0.49      0.45        49\n",
            "           4       0.62      0.18      0.28        44\n",
            "           5       0.33      0.05      0.09        20\n",
            "           6       0.00      0.00      0.00        11\n",
            "           7       0.33      0.29      0.31         7\n",
            "\n",
            "    accuracy                           0.44       600\n",
            "   macro avg       0.39      0.30      0.31       600\n",
            "weighted avg       0.45      0.44      0.42       600\n",
            "\n"
          ]
        }
      ]
    },
    {
      "cell_type": "code",
      "source": [
        "#per class binary classifier\n",
        "\n",
        "foun=0      #change for different foundations\n",
        " \n",
        "ff_1=[final_feat[k] for k in range(len(final_feat)) if lab[k]==foun]\n",
        "ff_0=[final_feat[k] for k in range(len(final_feat)) if lab[k]!=foun]\n",
        "ff=ff_0+ff_1\n",
        "lab_ff_1=np.ones(len(ff_1)).tolist()\n",
        "lab_ff_0=np.zeros(len(ff_0)).tolist()\n",
        "lab_ff=lab_ff_0+lab_ff_1\n",
        "\n",
        "from imblearn.under_sampling import RandomUnderSampler\n",
        "from imblearn.over_sampling import RandomOverSampler\n",
        "\n",
        "rus = RandomUnderSampler(random_state=0)\n",
        "#rus=  RandomOverSampler(random_state=0)\n",
        "\n",
        "X_resampled, y_resampled = rus.fit_resample(ff, lab_ff)\n",
        "\n",
        "from sklearn.model_selection import train_test_split\n",
        "x_train, x_test, y_train, y_test = train_test_split(X_resampled, y_resampled, test_size=0.1, random_state=42)\n",
        "\n",
        "print(sorted(Counter(y_resampled).items()))\n",
        "print()\n",
        "\n",
        "\n",
        "\n",
        "clf = LogisticRegression(random_state=0).fit(x_train, y_train)\n",
        "\n",
        "\n",
        "print('Classification Report for class: '+str(foun))\n",
        "print()\n",
        "from sklearn.metrics import classification_report\n",
        "y_pred=clf.predict(x_test)\n",
        "print(classification_report(y_test, y_pred))"
      ],
      "metadata": {
        "colab": {
          "base_uri": "https://localhost:8080/"
        },
        "id": "OLOYXeOun9nx",
        "outputId": "e6b1f7c3-d0b9-45ab-c397-28478964a532"
      },
      "execution_count": null,
      "outputs": [
        {
          "output_type": "stream",
          "name": "stdout",
          "text": [
            "[(0.0, 1873), (1.0, 1873)]\n",
            "\n",
            "Classification Report for class: 0\n",
            "\n",
            "              precision    recall  f1-score   support\n",
            "\n",
            "         0.0       0.69      0.49      0.57       195\n",
            "         1.0       0.58      0.77      0.66       180\n",
            "\n",
            "    accuracy                           0.62       375\n",
            "   macro avg       0.64      0.63      0.62       375\n",
            "weighted avg       0.64      0.62      0.61       375\n",
            "\n"
          ]
        }
      ]
    },
    {
      "cell_type": "code",
      "source": [
        "'''\n",
        "#per class binary classifier\n",
        "\n",
        "foun=0         #change for different foundations\n",
        " \n",
        "\n",
        "ff=[final_feat[k][foun] for k in range(len(final_feat))]\n",
        "lab_ff=np.zeros(len(final_feat))\n",
        "for k in range(len(final_feat)) :\n",
        "  if lab[k]==foun:                                    \n",
        "    lab_ff[k]=1 \n",
        "\n",
        "ff=np.asarray(ff).reshape(-1, 1)\n",
        "\n",
        "from imblearn.under_sampling import RandomUnderSampler\n",
        "from imblearn.over_sampling import RandomOverSampler\n",
        "\n",
        "rus = RandomUnderSampler(random_state=0)\n",
        "#rus=  RandomOverSampler(random_state=0)\n",
        "\n",
        "X_resampled, y_resampled = rus.fit_resample(ff, lab_ff)\n",
        "\n",
        "from sklearn.model_selection import train_test_split\n",
        "x_train, x_test, y_train, y_test = train_test_split(X_resampled, y_resampled, test_size=0.1, random_state=42)\n",
        "\n",
        "print(sorted(Counter(y_resampled).items()))\n",
        "print()\n",
        "\n",
        "\n",
        "\n",
        "clf = LogisticRegression(random_state=0).fit(x_train, y_train)\n",
        "\n",
        "\n",
        "print('Classification Report for class: '+str(foun))\n",
        "print()\n",
        "from sklearn.metrics import classification_report\n",
        "y_pred=clf.predict(x_test)\n",
        "print(classification_report(y_test, y_pred))\n",
        "\n",
        "'''"
      ],
      "metadata": {
        "colab": {
          "base_uri": "https://localhost:8080/"
        },
        "id": "z1zWxqWqvCWX",
        "outputId": "90409036-efce-444d-e5ad-f2e71ff9fba9"
      },
      "execution_count": null,
      "outputs": [
        {
          "output_type": "stream",
          "name": "stdout",
          "text": [
            "[(0.0, 1873), (1.0, 1873)]\n",
            "\n",
            "Classification Report for class: 0\n",
            "\n",
            "              precision    recall  f1-score   support\n",
            "\n",
            "         0.0       0.00      0.00      0.00       195\n",
            "         1.0       0.48      1.00      0.65       180\n",
            "\n",
            "    accuracy                           0.48       375\n",
            "   macro avg       0.24      0.50      0.32       375\n",
            "weighted avg       0.23      0.48      0.31       375\n",
            "\n"
          ]
        },
        {
          "output_type": "stream",
          "name": "stderr",
          "text": [
            "/usr/local/lib/python3.7/dist-packages/sklearn/metrics/_classification.py:1318: UndefinedMetricWarning: Precision and F-score are ill-defined and being set to 0.0 in labels with no predicted samples. Use `zero_division` parameter to control this behavior.\n",
            "  _warn_prf(average, modifier, msg_start, len(result))\n",
            "/usr/local/lib/python3.7/dist-packages/sklearn/metrics/_classification.py:1318: UndefinedMetricWarning: Precision and F-score are ill-defined and being set to 0.0 in labels with no predicted samples. Use `zero_division` parameter to control this behavior.\n",
            "  _warn_prf(average, modifier, msg_start, len(result))\n",
            "/usr/local/lib/python3.7/dist-packages/sklearn/metrics/_classification.py:1318: UndefinedMetricWarning: Precision and F-score are ill-defined and being set to 0.0 in labels with no predicted samples. Use `zero_division` parameter to control this behavior.\n",
            "  _warn_prf(average, modifier, msg_start, len(result))\n"
          ]
        }
      ]
    },
    {
      "cell_type": "code",
      "source": [
        "\n"
      ],
      "metadata": {
        "id": "EHST2mJk6uR-"
      },
      "execution_count": null,
      "outputs": []
    },
    {
      "cell_type": "code",
      "source": [
        ""
      ],
      "metadata": {
        "id": "6tdA6JcxDrZQ"
      },
      "execution_count": null,
      "outputs": []
    },
    {
      "cell_type": "code",
      "source": [
        ""
      ],
      "metadata": {
        "id": "XkJaC6w3Drjt"
      },
      "execution_count": null,
      "outputs": []
    },
    {
      "cell_type": "markdown",
      "source": [
        "(Dictionary word related/all words of tweet) ratio"
      ],
      "metadata": {
        "id": "ImXbxMBT8jDL"
      }
    },
    {
      "cell_type": "code",
      "source": [
        "def feat_vecc(p,res):\n",
        "  h=np.zeros(14)\n",
        "  \n",
        "  v=Counter(res[p])\n",
        "  for k in range(len(list(set(v)))):\n",
        "    h[list(set(v))[k]-1]=v[list(set(v))[k]]\n",
        "  return h  \n",
        "\n",
        " #extract feature vector for foundation related count \n",
        "def extra_fe(dat):\n",
        "  res=list(map(moral_words,dat))\n",
        "  all_fea=[]\n",
        "  for p in range(len(res)):\n",
        "    all_fea.append(feat_vecc(p,res))\n",
        "  tweet_len=[len(word_tokenize(text_preprocessing(dat[g]))) for g in range(len(dat))]  \n",
        "    \n",
        "  return all_fea  ,tweet_len"
      ],
      "metadata": {
        "id": "9MKosx5l9P9n"
      },
      "execution_count": 20,
      "outputs": []
    },
    {
      "cell_type": "code",
      "source": [
        "Care_dat=dft.loc[dft['Label']==1]['Tweet'].tolist()\n",
        "Fairness_dat=dft.loc[dft['Label']==2]['Tweet'].tolist()\n",
        "Loyalty_dat=dft.loc[dft['Label']==3]['Tweet'].tolist()\n",
        "Authority_dat=dft.loc[dft['Label']==4]['Tweet'].tolist()\n",
        "Purity_dat=dft.loc[dft['Label']==5]['Tweet'].tolist()\n",
        "Freedom_dat=dft.loc[dft['Label']==6]['Tweet'].tolist()\n",
        "Qeirat_dat=dft.loc[dft['Label']==7]['Tweet'].tolist()"
      ],
      "metadata": {
        "id": "CELuUiIs98rZ"
      },
      "execution_count": 21,
      "outputs": []
    },
    {
      "cell_type": "code",
      "source": [
        ""
      ],
      "metadata": {
        "id": "VZQ5LVLR3ERX"
      },
      "execution_count": null,
      "outputs": []
    },
    {
      "cell_type": "code",
      "source": [
        "fo='Qeirat'\n",
        "va=fo+'_dat'\n",
        "va=locals()[va]\n",
        "ff,tweet_len=extra_fe(va)\n",
        "\n",
        "ff_n=[]\n",
        "for k in range(len(ff)):\n",
        "  ff_n.append([1000*ff[k][j]/(tweet_len[k]*len_fon_vv[j]) for j in range(14)])\n",
        "\n",
        "\n",
        "#q=[j.reshape(-1,2).sum(axis=1) for j in ff]\n",
        "qq=[(ff[j].reshape(-1,2).sum(axis=1))/tweet_len[j] for j in range(len(ff))]\n",
        "\n",
        "qq_n=[]\n",
        "for k in range(len(qq)):\n",
        "   qq_n.append([1000*qq[k][j]/len_fon[j] for j in range(7)])"
      ],
      "metadata": {
        "id": "iWfecHPZDp0B"
      },
      "execution_count": 139,
      "outputs": []
    },
    {
      "cell_type": "code",
      "source": [
        "\n",
        "'''\n",
        "res=list(map(moral_words,Freedom_dat))\n",
        "r=51\n",
        "print(res[r])\n",
        "print(q[r])\n",
        "print(qq[r])\n",
        "'''"
      ],
      "metadata": {
        "colab": {
          "base_uri": "https://localhost:8080/",
          "height": 35
        },
        "id": "6j3vvMxwESAG",
        "outputId": "468c5e9e-b64b-45fd-bc5d-902ba0816da0"
      },
      "execution_count": 140,
      "outputs": [
        {
          "output_type": "execute_result",
          "data": {
            "text/plain": [
              "'\\nres=list(map(moral_words,Freedom_dat))\\nr=51\\nprint(res[r])\\nprint(q[r])\\nprint(qq[r])\\n'"
            ],
            "application/vnd.google.colaboratory.intrinsic+json": {
              "type": "string"
            }
          },
          "metadata": {},
          "execution_count": 140
        }
      ]
    },
    {
      "cell_type": "code",
      "source": [
        "\n",
        "#mean of ((dictionary related word)/(total lenght of tweet) for each foundation for Virtue and Vice\n",
        "mu_vv=[]\n",
        "for z in range(14):\n",
        "  mu_vv.append(np.asarray(ff_n)[:,z])"
      ],
      "metadata": {
        "id": "BJOZt51nlkl7"
      },
      "execution_count": 141,
      "outputs": []
    },
    {
      "cell_type": "code",
      "source": [
        "tdata_vv = pd.DataFrame({'Care_Virtue':mu_vv[0],'Care_Vice':mu_vv[1],'Fairness_Virtue':mu_vv[2],'Fairness_Vice':mu_vv[3],\n",
        "                         'Loyalty_Virtue':mu_vv[4],'Loyalty_Vice':mu_vv[5],'Authority_Virtue':mu_vv[6],'Authority_Vice':mu_vv[7],\n",
        "                         'Purity_Virtue':mu_vv[8],'Purity_Vice':mu_vv[9],'Freedom_Virtue':mu_vv[10],'Freedom_Vice':mu_vv[11],\n",
        "                         'Qeirat_Virtue':mu_vv[12],'Qeirat_Vice':mu_vv[13]})\n",
        "                        \n",
        "tdata_vv.index = range(0,len(ff))\n",
        "tdata_vv.describe()"
      ],
      "metadata": {
        "colab": {
          "base_uri": "https://localhost:8080/",
          "height": 364
        },
        "id": "PjN_Tn3nmPqp",
        "outputId": "14335a62-5e45-47e8-979d-4f646019d1b8"
      },
      "execution_count": 142,
      "outputs": [
        {
          "output_type": "execute_result",
          "data": {
            "text/plain": [
              "       Care_Virtue  Care_Vice  Fairness_Virtue  Fairness_Vice  Loyalty_Virtue  \\\n",
              "count    66.000000  66.000000        66.000000      66.000000       66.000000   \n",
              "mean      0.046124   0.026603         0.048610       0.027142        0.122833   \n",
              "std       0.151553   0.064273         0.196508       0.109821        0.312060   \n",
              "min       0.000000   0.000000         0.000000       0.000000        0.000000   \n",
              "25%       0.000000   0.000000         0.000000       0.000000        0.000000   \n",
              "50%       0.000000   0.000000         0.000000       0.000000        0.000000   \n",
              "75%       0.000000   0.000000         0.000000       0.000000        0.000000   \n",
              "max       0.700280   0.229779         0.978474       0.573394        1.310616   \n",
              "\n",
              "       Loyalty_Vice  Authority_Virtue  Authority_Vice  Purity_Virtue  \\\n",
              "count     66.000000         66.000000       66.000000      66.000000   \n",
              "mean       0.034722          0.037504        0.055355       0.070682   \n",
              "std        0.163430          0.096999        0.186521       0.172219   \n",
              "min        0.000000          0.000000        0.000000       0.000000   \n",
              "25%        0.000000          0.000000        0.000000       0.000000   \n",
              "50%        0.000000          0.000000        0.000000       0.000000   \n",
              "75%        0.000000          0.000000        0.000000       0.000000   \n",
              "max        0.868056          0.514403        1.031992       1.106195   \n",
              "\n",
              "       Purity_Vice  Freedom_Virtue  Freedom_Vice  Qeirat_Virtue  Qeirat_Vice  \n",
              "count    66.000000       66.000000     66.000000      66.000000         66.0  \n",
              "mean      0.010115        0.059511      0.051760       1.310237          0.0  \n",
              "std       0.046762        0.262629      0.144247       1.233373          0.0  \n",
              "min       0.000000        0.000000      0.000000       0.000000          0.0  \n",
              "25%       0.000000        0.000000      0.000000       0.689655          0.0  \n",
              "50%       0.000000        0.000000      0.000000       1.149425          0.0  \n",
              "75%       0.000000        0.000000      0.000000       1.684953          0.0  \n",
              "max       0.229832        1.687764      0.605327       5.747126          0.0  "
            ],
            "text/html": [
              "\n",
              "  <div id=\"df-7ea2810a-341e-453d-8e8b-5ccc2405e8d9\">\n",
              "    <div class=\"colab-df-container\">\n",
              "      <div>\n",
              "<style scoped>\n",
              "    .dataframe tbody tr th:only-of-type {\n",
              "        vertical-align: middle;\n",
              "    }\n",
              "\n",
              "    .dataframe tbody tr th {\n",
              "        vertical-align: top;\n",
              "    }\n",
              "\n",
              "    .dataframe thead th {\n",
              "        text-align: right;\n",
              "    }\n",
              "</style>\n",
              "<table border=\"1\" class=\"dataframe\">\n",
              "  <thead>\n",
              "    <tr style=\"text-align: right;\">\n",
              "      <th></th>\n",
              "      <th>Care_Virtue</th>\n",
              "      <th>Care_Vice</th>\n",
              "      <th>Fairness_Virtue</th>\n",
              "      <th>Fairness_Vice</th>\n",
              "      <th>Loyalty_Virtue</th>\n",
              "      <th>Loyalty_Vice</th>\n",
              "      <th>Authority_Virtue</th>\n",
              "      <th>Authority_Vice</th>\n",
              "      <th>Purity_Virtue</th>\n",
              "      <th>Purity_Vice</th>\n",
              "      <th>Freedom_Virtue</th>\n",
              "      <th>Freedom_Vice</th>\n",
              "      <th>Qeirat_Virtue</th>\n",
              "      <th>Qeirat_Vice</th>\n",
              "    </tr>\n",
              "  </thead>\n",
              "  <tbody>\n",
              "    <tr>\n",
              "      <th>count</th>\n",
              "      <td>66.000000</td>\n",
              "      <td>66.000000</td>\n",
              "      <td>66.000000</td>\n",
              "      <td>66.000000</td>\n",
              "      <td>66.000000</td>\n",
              "      <td>66.000000</td>\n",
              "      <td>66.000000</td>\n",
              "      <td>66.000000</td>\n",
              "      <td>66.000000</td>\n",
              "      <td>66.000000</td>\n",
              "      <td>66.000000</td>\n",
              "      <td>66.000000</td>\n",
              "      <td>66.000000</td>\n",
              "      <td>66.0</td>\n",
              "    </tr>\n",
              "    <tr>\n",
              "      <th>mean</th>\n",
              "      <td>0.046124</td>\n",
              "      <td>0.026603</td>\n",
              "      <td>0.048610</td>\n",
              "      <td>0.027142</td>\n",
              "      <td>0.122833</td>\n",
              "      <td>0.034722</td>\n",
              "      <td>0.037504</td>\n",
              "      <td>0.055355</td>\n",
              "      <td>0.070682</td>\n",
              "      <td>0.010115</td>\n",
              "      <td>0.059511</td>\n",
              "      <td>0.051760</td>\n",
              "      <td>1.310237</td>\n",
              "      <td>0.0</td>\n",
              "    </tr>\n",
              "    <tr>\n",
              "      <th>std</th>\n",
              "      <td>0.151553</td>\n",
              "      <td>0.064273</td>\n",
              "      <td>0.196508</td>\n",
              "      <td>0.109821</td>\n",
              "      <td>0.312060</td>\n",
              "      <td>0.163430</td>\n",
              "      <td>0.096999</td>\n",
              "      <td>0.186521</td>\n",
              "      <td>0.172219</td>\n",
              "      <td>0.046762</td>\n",
              "      <td>0.262629</td>\n",
              "      <td>0.144247</td>\n",
              "      <td>1.233373</td>\n",
              "      <td>0.0</td>\n",
              "    </tr>\n",
              "    <tr>\n",
              "      <th>min</th>\n",
              "      <td>0.000000</td>\n",
              "      <td>0.000000</td>\n",
              "      <td>0.000000</td>\n",
              "      <td>0.000000</td>\n",
              "      <td>0.000000</td>\n",
              "      <td>0.000000</td>\n",
              "      <td>0.000000</td>\n",
              "      <td>0.000000</td>\n",
              "      <td>0.000000</td>\n",
              "      <td>0.000000</td>\n",
              "      <td>0.000000</td>\n",
              "      <td>0.000000</td>\n",
              "      <td>0.000000</td>\n",
              "      <td>0.0</td>\n",
              "    </tr>\n",
              "    <tr>\n",
              "      <th>25%</th>\n",
              "      <td>0.000000</td>\n",
              "      <td>0.000000</td>\n",
              "      <td>0.000000</td>\n",
              "      <td>0.000000</td>\n",
              "      <td>0.000000</td>\n",
              "      <td>0.000000</td>\n",
              "      <td>0.000000</td>\n",
              "      <td>0.000000</td>\n",
              "      <td>0.000000</td>\n",
              "      <td>0.000000</td>\n",
              "      <td>0.000000</td>\n",
              "      <td>0.000000</td>\n",
              "      <td>0.689655</td>\n",
              "      <td>0.0</td>\n",
              "    </tr>\n",
              "    <tr>\n",
              "      <th>50%</th>\n",
              "      <td>0.000000</td>\n",
              "      <td>0.000000</td>\n",
              "      <td>0.000000</td>\n",
              "      <td>0.000000</td>\n",
              "      <td>0.000000</td>\n",
              "      <td>0.000000</td>\n",
              "      <td>0.000000</td>\n",
              "      <td>0.000000</td>\n",
              "      <td>0.000000</td>\n",
              "      <td>0.000000</td>\n",
              "      <td>0.000000</td>\n",
              "      <td>0.000000</td>\n",
              "      <td>1.149425</td>\n",
              "      <td>0.0</td>\n",
              "    </tr>\n",
              "    <tr>\n",
              "      <th>75%</th>\n",
              "      <td>0.000000</td>\n",
              "      <td>0.000000</td>\n",
              "      <td>0.000000</td>\n",
              "      <td>0.000000</td>\n",
              "      <td>0.000000</td>\n",
              "      <td>0.000000</td>\n",
              "      <td>0.000000</td>\n",
              "      <td>0.000000</td>\n",
              "      <td>0.000000</td>\n",
              "      <td>0.000000</td>\n",
              "      <td>0.000000</td>\n",
              "      <td>0.000000</td>\n",
              "      <td>1.684953</td>\n",
              "      <td>0.0</td>\n",
              "    </tr>\n",
              "    <tr>\n",
              "      <th>max</th>\n",
              "      <td>0.700280</td>\n",
              "      <td>0.229779</td>\n",
              "      <td>0.978474</td>\n",
              "      <td>0.573394</td>\n",
              "      <td>1.310616</td>\n",
              "      <td>0.868056</td>\n",
              "      <td>0.514403</td>\n",
              "      <td>1.031992</td>\n",
              "      <td>1.106195</td>\n",
              "      <td>0.229832</td>\n",
              "      <td>1.687764</td>\n",
              "      <td>0.605327</td>\n",
              "      <td>5.747126</td>\n",
              "      <td>0.0</td>\n",
              "    </tr>\n",
              "  </tbody>\n",
              "</table>\n",
              "</div>\n",
              "      <button class=\"colab-df-convert\" onclick=\"convertToInteractive('df-7ea2810a-341e-453d-8e8b-5ccc2405e8d9')\"\n",
              "              title=\"Convert this dataframe to an interactive table.\"\n",
              "              style=\"display:none;\">\n",
              "        \n",
              "  <svg xmlns=\"http://www.w3.org/2000/svg\" height=\"24px\"viewBox=\"0 0 24 24\"\n",
              "       width=\"24px\">\n",
              "    <path d=\"M0 0h24v24H0V0z\" fill=\"none\"/>\n",
              "    <path d=\"M18.56 5.44l.94 2.06.94-2.06 2.06-.94-2.06-.94-.94-2.06-.94 2.06-2.06.94zm-11 1L8.5 8.5l.94-2.06 2.06-.94-2.06-.94L8.5 2.5l-.94 2.06-2.06.94zm10 10l.94 2.06.94-2.06 2.06-.94-2.06-.94-.94-2.06-.94 2.06-2.06.94z\"/><path d=\"M17.41 7.96l-1.37-1.37c-.4-.4-.92-.59-1.43-.59-.52 0-1.04.2-1.43.59L10.3 9.45l-7.72 7.72c-.78.78-.78 2.05 0 2.83L4 21.41c.39.39.9.59 1.41.59.51 0 1.02-.2 1.41-.59l7.78-7.78 2.81-2.81c.8-.78.8-2.07 0-2.86zM5.41 20L4 18.59l7.72-7.72 1.47 1.35L5.41 20z\"/>\n",
              "  </svg>\n",
              "      </button>\n",
              "      \n",
              "  <style>\n",
              "    .colab-df-container {\n",
              "      display:flex;\n",
              "      flex-wrap:wrap;\n",
              "      gap: 12px;\n",
              "    }\n",
              "\n",
              "    .colab-df-convert {\n",
              "      background-color: #E8F0FE;\n",
              "      border: none;\n",
              "      border-radius: 50%;\n",
              "      cursor: pointer;\n",
              "      display: none;\n",
              "      fill: #1967D2;\n",
              "      height: 32px;\n",
              "      padding: 0 0 0 0;\n",
              "      width: 32px;\n",
              "    }\n",
              "\n",
              "    .colab-df-convert:hover {\n",
              "      background-color: #E2EBFA;\n",
              "      box-shadow: 0px 1px 2px rgba(60, 64, 67, 0.3), 0px 1px 3px 1px rgba(60, 64, 67, 0.15);\n",
              "      fill: #174EA6;\n",
              "    }\n",
              "\n",
              "    [theme=dark] .colab-df-convert {\n",
              "      background-color: #3B4455;\n",
              "      fill: #D2E3FC;\n",
              "    }\n",
              "\n",
              "    [theme=dark] .colab-df-convert:hover {\n",
              "      background-color: #434B5C;\n",
              "      box-shadow: 0px 1px 3px 1px rgba(0, 0, 0, 0.15);\n",
              "      filter: drop-shadow(0px 1px 2px rgba(0, 0, 0, 0.3));\n",
              "      fill: #FFFFFF;\n",
              "    }\n",
              "  </style>\n",
              "\n",
              "      <script>\n",
              "        const buttonEl =\n",
              "          document.querySelector('#df-7ea2810a-341e-453d-8e8b-5ccc2405e8d9 button.colab-df-convert');\n",
              "        buttonEl.style.display =\n",
              "          google.colab.kernel.accessAllowed ? 'block' : 'none';\n",
              "\n",
              "        async function convertToInteractive(key) {\n",
              "          const element = document.querySelector('#df-7ea2810a-341e-453d-8e8b-5ccc2405e8d9');\n",
              "          const dataTable =\n",
              "            await google.colab.kernel.invokeFunction('convertToInteractive',\n",
              "                                                     [key], {});\n",
              "          if (!dataTable) return;\n",
              "\n",
              "          const docLinkHtml = 'Like what you see? Visit the ' +\n",
              "            '<a target=\"_blank\" href=https://colab.research.google.com/notebooks/data_table.ipynb>data table notebook</a>'\n",
              "            + ' to learn more about interactive tables.';\n",
              "          element.innerHTML = '';\n",
              "          dataTable['output_type'] = 'display_data';\n",
              "          await google.colab.output.renderOutput(dataTable, element);\n",
              "          const docLink = document.createElement('div');\n",
              "          docLink.innerHTML = docLinkHtml;\n",
              "          element.appendChild(docLink);\n",
              "        }\n",
              "      </script>\n",
              "    </div>\n",
              "  </div>\n",
              "  "
            ]
          },
          "metadata": {},
          "execution_count": 142
        }
      ]
    },
    {
      "cell_type": "code",
      "source": [
        "x = tdata_vv.describe().loc['mean'].keys()\n",
        "y = [tdata_vv.describe().loc['mean'][u] for u in range(14)]\n",
        "y1=[y[i] for i in range(0,14,2)]\n",
        "y2=[y[i] for i in range(1,14,2)]\n",
        "wid=0.15\n",
        "plt.figure(figsize=(8, 3))\n",
        "x = np.arange(7)\n",
        "# creating the bar plot\n",
        "plt.bar(x-wid, y1, color ='blue',\n",
        "        width = 2*wid)\n",
        "plt.bar(x+wid, y2, color ='red',\n",
        "        width = 2*wid)\n",
        "plt.xticks(x, ['Care', 'Fairness', 'Loyalty', 'Authority', 'Purity', 'Freedom', 'Qeirat'])\n",
        "\n",
        "plt.xlabel(\"Moral Foundations(Virtue/Vice)\")\n",
        "\n",
        "plt.ylabel(\"Mean of Normalized Moral Loading Score \")   #(Normalized Moral Loading Score=1000*Foundation_related_words/total_Foundation_words*tweet_size)\n",
        "plt.title(\"All tweets which annotated as : \"+fo)\n",
        "plt.show()"
      ],
      "metadata": {
        "colab": {
          "base_uri": "https://localhost:8080/",
          "height": 247
        },
        "id": "WfMpR4Y2oi3p",
        "outputId": "09ab1245-9157-4aa1-e735-e1f2b6f600a0"
      },
      "execution_count": 143,
      "outputs": [
        {
          "output_type": "display_data",
          "data": {
            "text/plain": [
              "<Figure size 576x216 with 1 Axes>"
            ],
            "image/png": "[encoded data removed]"
          },
          "metadata": {
            "needs_background": "light"
          }
        }
      ]
    },
    {
      "cell_type": "code",
      "source": [
        "#mean of ((dictionary related word)/(total lenght of tweet) for each foundation\n",
        "mu=[]\n",
        "for z in range(7):\n",
        "  mu.append(np.asarray(qq_n)[:,z])"
      ],
      "metadata": {
        "id": "ps4VGXZTGEqD"
      },
      "execution_count": 144,
      "outputs": []
    },
    {
      "cell_type": "code",
      "source": [
        "from scipy.stats import f_oneway\n",
        "f_oneway(mu[0],mu[1],mu[2],mu[3],mu[4],mu[5],mu[6])"
      ],
      "metadata": {
        "colab": {
          "base_uri": "https://localhost:8080/"
        },
        "id": "w4cz5ymgIGCR",
        "outputId": "030f17b3-a19a-44d7-c68f-24209cbcba04"
      },
      "execution_count": 145,
      "outputs": [
        {
          "output_type": "execute_result",
          "data": {
            "text/plain": [
              "F_onewayResult(statistic=60.627413555519055, pvalue=4.7058433694070696e-55)"
            ]
          },
          "metadata": {},
          "execution_count": 145
        }
      ]
    },
    {
      "cell_type": "code",
      "source": [
        "tdata = pd.DataFrame({'Care':mu[0], 'Fairness':mu[1], 'Loyalty':mu[2], 'Authority':mu[3], 'Purity':mu[4], 'Freedom':mu[5], 'Qeirat':mu[6]})\n",
        "tdata.index = range(0,len(ff))\n",
        "tdata"
      ],
      "metadata": {
        "colab": {
          "base_uri": "https://localhost:8080/",
          "height": 424
        },
        "id": "Hz6q_-QqO40q",
        "outputId": "5fc0f050-8889-48d5-ecb3-f8f258401452"
      },
      "execution_count": 146,
      "outputs": [
        {
          "output_type": "execute_result",
          "data": {
            "text/plain": [
              "        Care  Fairness  Loyalty  Authority    Purity   Freedom    Qeirat\n",
              "0   0.000000       0.0      0.0   0.000000  0.000000  0.362582  0.892857\n",
              "1   0.000000       0.0      0.0   0.209644  0.000000  0.676819  0.000000\n",
              "2   0.116252       0.0      0.0   0.000000  0.000000  0.441404  0.000000\n",
              "3   0.000000       0.0      0.0   0.000000  0.000000  0.000000  1.562500\n",
              "4   0.000000       0.0      0.0   0.000000  0.087912  0.000000  0.000000\n",
              "..       ...       ...      ...        ...       ...       ...       ...\n",
              "61  0.106952       0.0      0.0   0.000000  0.000000  0.000000  0.500000\n",
              "62  0.000000       0.0      0.0   0.000000  0.000000  0.000000  1.562500\n",
              "63  0.140726       0.0      0.0   0.165508  0.231348  0.267165  0.657895\n",
              "64  0.106952       0.0      0.0   0.125786  0.087912  0.203046  0.500000\n",
              "65  0.000000       0.0      0.0   0.000000  0.000000  0.000000  0.000000\n",
              "\n",
              "[66 rows x 7 columns]"
            ],
            "text/html": [
              "\n",
              "  <div id=\"df-9fa9c0f7-44be-45da-85b9-870e081b3d52\">\n",
              "    <div class=\"colab-df-container\">\n",
              "      <div>\n",
              "<style scoped>\n",
              "    .dataframe tbody tr th:only-of-type {\n",
              "        vertical-align: middle;\n",
              "    }\n",
              "\n",
              "    .dataframe tbody tr th {\n",
              "        vertical-align: top;\n",
              "    }\n",
              "\n",
              "    .dataframe thead th {\n",
              "        text-align: right;\n",
              "    }\n",
              "</style>\n",
              "<table border=\"1\" class=\"dataframe\">\n",
              "  <thead>\n",
              "    <tr style=\"text-align: right;\">\n",
              "      <th></th>\n",
              "      <th>Care</th>\n",
              "      <th>Fairness</th>\n",
              "      <th>Loyalty</th>\n",
              "      <th>Authority</th>\n",
              "      <th>Purity</th>\n",
              "      <th>Freedom</th>\n",
              "      <th>Qeirat</th>\n",
              "    </tr>\n",
              "  </thead>\n",
              "  <tbody>\n",
              "    <tr>\n",
              "      <th>0</th>\n",
              "      <td>0.000000</td>\n",
              "      <td>0.0</td>\n",
              "      <td>0.0</td>\n",
              "      <td>0.000000</td>\n",
              "      <td>0.000000</td>\n",
              "      <td>0.362582</td>\n",
              "      <td>0.892857</td>\n",
              "    </tr>\n",
              "    <tr>\n",
              "      <th>1</th>\n",
              "      <td>0.000000</td>\n",
              "      <td>0.0</td>\n",
              "      <td>0.0</td>\n",
              "      <td>0.209644</td>\n",
              "      <td>0.000000</td>\n",
              "      <td>0.676819</td>\n",
              "      <td>0.000000</td>\n",
              "    </tr>\n",
              "    <tr>\n",
              "      <th>2</th>\n",
              "      <td>0.116252</td>\n",
              "      <td>0.0</td>\n",
              "      <td>0.0</td>\n",
              "      <td>0.000000</td>\n",
              "      <td>0.000000</td>\n",
              "      <td>0.441404</td>\n",
              "      <td>0.000000</td>\n",
              "    </tr>\n",
              "    <tr>\n",
              "      <th>3</th>\n",
              "      <td>0.000000</td>\n",
              "      <td>0.0</td>\n",
              "      <td>0.0</td>\n",
              "      <td>0.000000</td>\n",
              "      <td>0.000000</td>\n",
              "      <td>0.000000</td>\n",
              "      <td>1.562500</td>\n",
              "    </tr>\n",
              "    <tr>\n",
              "      <th>4</th>\n",
              "      <td>0.000000</td>\n",
              "      <td>0.0</td>\n",
              "      <td>0.0</td>\n",
              "      <td>0.000000</td>\n",
              "      <td>0.087912</td>\n",
              "      <td>0.000000</td>\n",
              "      <td>0.000000</td>\n",
              "    </tr>\n",
              "    <tr>\n",
              "      <th>...</th>\n",
              "      <td>...</td>\n",
              "      <td>...</td>\n",
              "      <td>...</td>\n",
              "      <td>...</td>\n",
              "      <td>...</td>\n",
              "      <td>...</td>\n",
              "      <td>...</td>\n",
              "    </tr>\n",
              "    <tr>\n",
              "      <th>61</th>\n",
              "      <td>0.106952</td>\n",
              "      <td>0.0</td>\n",
              "      <td>0.0</td>\n",
              "      <td>0.000000</td>\n",
              "      <td>0.000000</td>\n",
              "      <td>0.000000</td>\n",
              "      <td>0.500000</td>\n",
              "    </tr>\n",
              "    <tr>\n",
              "      <th>62</th>\n",
              "      <td>0.000000</td>\n",
              "      <td>0.0</td>\n",
              "      <td>0.0</td>\n",
              "      <td>0.000000</td>\n",
              "      <td>0.000000</td>\n",
              "      <td>0.000000</td>\n",
              "      <td>1.562500</td>\n",
              "    </tr>\n",
              "    <tr>\n",
              "      <th>63</th>\n",
              "      <td>0.140726</td>\n",
              "      <td>0.0</td>\n",
              "      <td>0.0</td>\n",
              "      <td>0.165508</td>\n",
              "      <td>0.231348</td>\n",
              "      <td>0.267165</td>\n",
              "      <td>0.657895</td>\n",
              "    </tr>\n",
              "    <tr>\n",
              "      <th>64</th>\n",
              "      <td>0.106952</td>\n",
              "      <td>0.0</td>\n",
              "      <td>0.0</td>\n",
              "      <td>0.125786</td>\n",
              "      <td>0.087912</td>\n",
              "      <td>0.203046</td>\n",
              "      <td>0.500000</td>\n",
              "    </tr>\n",
              "    <tr>\n",
              "      <th>65</th>\n",
              "      <td>0.000000</td>\n",
              "      <td>0.0</td>\n",
              "      <td>0.0</td>\n",
              "      <td>0.000000</td>\n",
              "      <td>0.000000</td>\n",
              "      <td>0.000000</td>\n",
              "      <td>0.000000</td>\n",
              "    </tr>\n",
              "  </tbody>\n",
              "</table>\n",
              "<p>66 rows × 7 columns</p>\n",
              "</div>\n",
              "      <button class=\"colab-df-convert\" onclick=\"convertToInteractive('df-9fa9c0f7-44be-45da-85b9-870e081b3d52')\"\n",
              "              title=\"Convert this dataframe to an interactive table.\"\n",
              "              style=\"display:none;\">\n",
              "        \n",
              "  <svg xmlns=\"http://www.w3.org/2000/svg\" height=\"24px\"viewBox=\"0 0 24 24\"\n",
              "       width=\"24px\">\n",
              "    <path d=\"M0 0h24v24H0V0z\" fill=\"none\"/>\n",
              "    <path d=\"M18.56 5.44l.94 2.06.94-2.06 2.06-.94-2.06-.94-.94-2.06-.94 2.06-2.06.94zm-11 1L8.5 8.5l.94-2.06 2.06-.94-2.06-.94L8.5 2.5l-.94 2.06-2.06.94zm10 10l.94 2.06.94-2.06 2.06-.94-2.06-.94-.94-2.06-.94 2.06-2.06.94z\"/><path d=\"M17.41 7.96l-1.37-1.37c-.4-.4-.92-.59-1.43-.59-.52 0-1.04.2-1.43.59L10.3 9.45l-7.72 7.72c-.78.78-.78 2.05 0 2.83L4 21.41c.39.39.9.59 1.41.59.51 0 1.02-.2 1.41-.59l7.78-7.78 2.81-2.81c.8-.78.8-2.07 0-2.86zM5.41 20L4 18.59l7.72-7.72 1.47 1.35L5.41 20z\"/>\n",
              "  </svg>\n",
              "      </button>\n",
              "      \n",
              "  <style>\n",
              "    .colab-df-container {\n",
              "      display:flex;\n",
              "      flex-wrap:wrap;\n",
              "      gap: 12px;\n",
              "    }\n",
              "\n",
              "    .colab-df-convert {\n",
              "      background-color: #E8F0FE;\n",
              "      border: none;\n",
              "      border-radius: 50%;\n",
              "      cursor: pointer;\n",
              "      display: none;\n",
              "      fill: #1967D2;\n",
              "      height: 32px;\n",
              "      padding: 0 0 0 0;\n",
              "      width: 32px;\n",
              "    }\n",
              "\n",
              "    .colab-df-convert:hover {\n",
              "      background-color: #E2EBFA;\n",
              "      box-shadow: 0px 1px 2px rgba(60, 64, 67, 0.3), 0px 1px 3px 1px rgba(60, 64, 67, 0.15);\n",
              "      fill: #174EA6;\n",
              "    }\n",
              "\n",
              "    [theme=dark] .colab-df-convert {\n",
              "      background-color: #3B4455;\n",
              "      fill: #D2E3FC;\n",
              "    }\n",
              "\n",
              "    [theme=dark] .colab-df-convert:hover {\n",
              "      background-color: #434B5C;\n",
              "      box-shadow: 0px 1px 3px 1px rgba(0, 0, 0, 0.15);\n",
              "      filter: drop-shadow(0px 1px 2px rgba(0, 0, 0, 0.3));\n",
              "      fill: #FFFFFF;\n",
              "    }\n",
              "  </style>\n",
              "\n",
              "      <script>\n",
              "        const buttonEl =\n",
              "          document.querySelector('#df-9fa9c0f7-44be-45da-85b9-870e081b3d52 button.colab-df-convert');\n",
              "        buttonEl.style.display =\n",
              "          google.colab.kernel.accessAllowed ? 'block' : 'none';\n",
              "\n",
              "        async function convertToInteractive(key) {\n",
              "          const element = document.querySelector('#df-9fa9c0f7-44be-45da-85b9-870e081b3d52');\n",
              "          const dataTable =\n",
              "            await google.colab.kernel.invokeFunction('convertToInteractive',\n",
              "                                                     [key], {});\n",
              "          if (!dataTable) return;\n",
              "\n",
              "          const docLinkHtml = 'Like what you see? Visit the ' +\n",
              "            '<a target=\"_blank\" href=https://colab.research.google.com/notebooks/data_table.ipynb>data table notebook</a>'\n",
              "            + ' to learn more about interactive tables.';\n",
              "          element.innerHTML = '';\n",
              "          dataTable['output_type'] = 'display_data';\n",
              "          await google.colab.output.renderOutput(dataTable, element);\n",
              "          const docLink = document.createElement('div');\n",
              "          docLink.innerHTML = docLinkHtml;\n",
              "          element.appendChild(docLink);\n",
              "        }\n",
              "      </script>\n",
              "    </div>\n",
              "  </div>\n",
              "  "
            ]
          },
          "metadata": {},
          "execution_count": 146
        }
      ]
    },
    {
      "cell_type": "code",
      "source": [
        "tdata.describe()"
      ],
      "metadata": {
        "colab": {
          "base_uri": "https://localhost:8080/",
          "height": 300
        },
        "id": "VFRc1X3yX7um",
        "outputId": "01ce9124-aad4-4ad8-bde3-bd0db2c7caa0"
      },
      "execution_count": 147,
      "outputs": [
        {
          "output_type": "execute_result",
          "data": {
            "text/plain": [
              "            Care   Fairness    Loyalty  Authority     Purity    Freedom  \\\n",
              "count  66.000000  66.000000  66.000000  66.000000  66.000000  66.000000   \n",
              "mean    0.031927   0.035753   0.087784   0.043229   0.040199   0.054868   \n",
              "std     0.061765   0.111660   0.193565   0.087352   0.091279   0.130594   \n",
              "min     0.000000   0.000000   0.000000   0.000000   0.000000   0.000000   \n",
              "25%     0.000000   0.000000   0.000000   0.000000   0.000000   0.000000   \n",
              "50%     0.000000   0.000000   0.000000   0.000000   0.000000   0.000000   \n",
              "75%     0.000000   0.000000   0.000000   0.000000   0.000000   0.000000   \n",
              "max     0.232504   0.578369   0.789266   0.349406   0.549451   0.676819   \n",
              "\n",
              "          Qeirat  \n",
              "count  66.000000  \n",
              "mean    0.949922  \n",
              "std     0.894196  \n",
              "min     0.000000  \n",
              "25%     0.500000  \n",
              "50%     0.833333  \n",
              "75%     1.221591  \n",
              "max     4.166667  "
            ],
            "text/html": [
              "\n",
              "  <div id=\"df-75b78d0e-94a0-4018-98f9-ed743154c4b8\">\n",
              "    <div class=\"colab-df-container\">\n",
              "      <div>\n",
              "<style scoped>\n",
              "    .dataframe tbody tr th:only-of-type {\n",
              "        vertical-align: middle;\n",
              "    }\n",
              "\n",
              "    .dataframe tbody tr th {\n",
              "        vertical-align: top;\n",
              "    }\n",
              "\n",
              "    .dataframe thead th {\n",
              "        text-align: right;\n",
              "    }\n",
              "</style>\n",
              "<table border=\"1\" class=\"dataframe\">\n",
              "  <thead>\n",
              "    <tr style=\"text-align: right;\">\n",
              "      <th></th>\n",
              "      <th>Care</th>\n",
              "      <th>Fairness</th>\n",
              "      <th>Loyalty</th>\n",
              "      <th>Authority</th>\n",
              "      <th>Purity</th>\n",
              "      <th>Freedom</th>\n",
              "      <th>Qeirat</th>\n",
              "    </tr>\n",
              "  </thead>\n",
              "  <tbody>\n",
              "    <tr>\n",
              "      <th>count</th>\n",
              "      <td>66.000000</td>\n",
              "      <td>66.000000</td>\n",
              "      <td>66.000000</td>\n",
              "      <td>66.000000</td>\n",
              "      <td>66.000000</td>\n",
              "      <td>66.000000</td>\n",
              "      <td>66.000000</td>\n",
              "    </tr>\n",
              "    <tr>\n",
              "      <th>mean</th>\n",
              "      <td>0.031927</td>\n",
              "      <td>0.035753</td>\n",
              "      <td>0.087784</td>\n",
              "      <td>0.043229</td>\n",
              "      <td>0.040199</td>\n",
              "      <td>0.054868</td>\n",
              "      <td>0.949922</td>\n",
              "    </tr>\n",
              "    <tr>\n",
              "      <th>std</th>\n",
              "      <td>0.061765</td>\n",
              "      <td>0.111660</td>\n",
              "      <td>0.193565</td>\n",
              "      <td>0.087352</td>\n",
              "      <td>0.091279</td>\n",
              "      <td>0.130594</td>\n",
              "      <td>0.894196</td>\n",
              "    </tr>\n",
              "    <tr>\n",
              "      <th>min</th>\n",
              "      <td>0.000000</td>\n",
              "      <td>0.000000</td>\n",
              "      <td>0.000000</td>\n",
              "      <td>0.000000</td>\n",
              "      <td>0.000000</td>\n",
              "      <td>0.000000</td>\n",
              "      <td>0.000000</td>\n",
              "    </tr>\n",
              "    <tr>\n",
              "      <th>25%</th>\n",
              "      <td>0.000000</td>\n",
              "      <td>0.000000</td>\n",
              "      <td>0.000000</td>\n",
              "      <td>0.000000</td>\n",
              "      <td>0.000000</td>\n",
              "      <td>0.000000</td>\n",
              "      <td>0.500000</td>\n",
              "    </tr>\n",
              "    <tr>\n",
              "      <th>50%</th>\n",
              "      <td>0.000000</td>\n",
              "      <td>0.000000</td>\n",
              "      <td>0.000000</td>\n",
              "      <td>0.000000</td>\n",
              "      <td>0.000000</td>\n",
              "      <td>0.000000</td>\n",
              "      <td>0.833333</td>\n",
              "    </tr>\n",
              "    <tr>\n",
              "      <th>75%</th>\n",
              "      <td>0.000000</td>\n",
              "      <td>0.000000</td>\n",
              "      <td>0.000000</td>\n",
              "      <td>0.000000</td>\n",
              "      <td>0.000000</td>\n",
              "      <td>0.000000</td>\n",
              "      <td>1.221591</td>\n",
              "    </tr>\n",
              "    <tr>\n",
              "      <th>max</th>\n",
              "      <td>0.232504</td>\n",
              "      <td>0.578369</td>\n",
              "      <td>0.789266</td>\n",
              "      <td>0.349406</td>\n",
              "      <td>0.549451</td>\n",
              "      <td>0.676819</td>\n",
              "      <td>4.166667</td>\n",
              "    </tr>\n",
              "  </tbody>\n",
              "</table>\n",
              "</div>\n",
              "      <button class=\"colab-df-convert\" onclick=\"convertToInteractive('df-75b78d0e-94a0-4018-98f9-ed743154c4b8')\"\n",
              "              title=\"Convert this dataframe to an interactive table.\"\n",
              "              style=\"display:none;\">\n",
              "        \n",
              "  <svg xmlns=\"http://www.w3.org/2000/svg\" height=\"24px\"viewBox=\"0 0 24 24\"\n",
              "       width=\"24px\">\n",
              "    <path d=\"M0 0h24v24H0V0z\" fill=\"none\"/>\n",
              "    <path d=\"M18.56 5.44l.94 2.06.94-2.06 2.06-.94-2.06-.94-.94-2.06-.94 2.06-2.06.94zm-11 1L8.5 8.5l.94-2.06 2.06-.94-2.06-.94L8.5 2.5l-.94 2.06-2.06.94zm10 10l.94 2.06.94-2.06 2.06-.94-2.06-.94-.94-2.06-.94 2.06-2.06.94z\"/><path d=\"M17.41 7.96l-1.37-1.37c-.4-.4-.92-.59-1.43-.59-.52 0-1.04.2-1.43.59L10.3 9.45l-7.72 7.72c-.78.78-.78 2.05 0 2.83L4 21.41c.39.39.9.59 1.41.59.51 0 1.02-.2 1.41-.59l7.78-7.78 2.81-2.81c.8-.78.8-2.07 0-2.86zM5.41 20L4 18.59l7.72-7.72 1.47 1.35L5.41 20z\"/>\n",
              "  </svg>\n",
              "      </button>\n",
              "      \n",
              "  <style>\n",
              "    .colab-df-container {\n",
              "      display:flex;\n",
              "      flex-wrap:wrap;\n",
              "      gap: 12px;\n",
              "    }\n",
              "\n",
              "    .colab-df-convert {\n",
              "      background-color: #E8F0FE;\n",
              "      border: none;\n",
              "      border-radius: 50%;\n",
              "      cursor: pointer;\n",
              "      display: none;\n",
              "      fill: #1967D2;\n",
              "      height: 32px;\n",
              "      padding: 0 0 0 0;\n",
              "      width: 32px;\n",
              "    }\n",
              "\n",
              "    .colab-df-convert:hover {\n",
              "      background-color: #E2EBFA;\n",
              "      box-shadow: 0px 1px 2px rgba(60, 64, 67, 0.3), 0px 1px 3px 1px rgba(60, 64, 67, 0.15);\n",
              "      fill: #174EA6;\n",
              "    }\n",
              "\n",
              "    [theme=dark] .colab-df-convert {\n",
              "      background-color: #3B4455;\n",
              "      fill: #D2E3FC;\n",
              "    }\n",
              "\n",
              "    [theme=dark] .colab-df-convert:hover {\n",
              "      background-color: #434B5C;\n",
              "      box-shadow: 0px 1px 3px 1px rgba(0, 0, 0, 0.15);\n",
              "      filter: drop-shadow(0px 1px 2px rgba(0, 0, 0, 0.3));\n",
              "      fill: #FFFFFF;\n",
              "    }\n",
              "  </style>\n",
              "\n",
              "      <script>\n",
              "        const buttonEl =\n",
              "          document.querySelector('#df-75b78d0e-94a0-4018-98f9-ed743154c4b8 button.colab-df-convert');\n",
              "        buttonEl.style.display =\n",
              "          google.colab.kernel.accessAllowed ? 'block' : 'none';\n",
              "\n",
              "        async function convertToInteractive(key) {\n",
              "          const element = document.querySelector('#df-75b78d0e-94a0-4018-98f9-ed743154c4b8');\n",
              "          const dataTable =\n",
              "            await google.colab.kernel.invokeFunction('convertToInteractive',\n",
              "                                                     [key], {});\n",
              "          if (!dataTable) return;\n",
              "\n",
              "          const docLinkHtml = 'Like what you see? Visit the ' +\n",
              "            '<a target=\"_blank\" href=https://colab.research.google.com/notebooks/data_table.ipynb>data table notebook</a>'\n",
              "            + ' to learn more about interactive tables.';\n",
              "          element.innerHTML = '';\n",
              "          dataTable['output_type'] = 'display_data';\n",
              "          await google.colab.output.renderOutput(dataTable, element);\n",
              "          const docLink = document.createElement('div');\n",
              "          docLink.innerHTML = docLinkHtml;\n",
              "          element.appendChild(docLink);\n",
              "        }\n",
              "      </script>\n",
              "    </div>\n",
              "  </div>\n",
              "  "
            ]
          },
          "metadata": {},
          "execution_count": 147
        }
      ]
    },
    {
      "cell_type": "code",
      "source": [
        "\n",
        "x = tdata.describe().loc['mean'].keys()\n",
        "y = [(tdata.describe().loc['mean'][u]) for u in range(7)]\n",
        "\n",
        " \n",
        "# creating the bar plot\n",
        "plt.bar(x, y, color ='maroon',\n",
        "        width = 0.4)\n",
        " \n",
        "plt.xlabel(\"Moral Foundations(Collapsed over Virtue/Vice)\")\n",
        "\n",
        "plt.ylabel(\"Mean of Normalized Moral Loading Score \")   #(Normalized Moral Loading Score=1000*Foundation_related_words/total_Foundation_words*tweet_size)\n",
        "\n",
        "plt.title(\"All tweets which annotated as : \"+fo)\n",
        "\n",
        "plt.show()"
      ],
      "metadata": {
        "colab": {
          "base_uri": "https://localhost:8080/",
          "height": 295
        },
        "id": "5uWIETg6Rm5-",
        "outputId": "dd1b4b80-e4a9-4cc6-9065-f1bfdb31bc65"
      },
      "execution_count": 148,
      "outputs": [
        {
          "output_type": "display_data",
          "data": {
            "text/plain": [
              "<Figure size 432x288 with 1 Axes>"
            ],
            "image/png": "[encoded data removed]"
          },
          "metadata": {
            "needs_background": "light"
          }
        }
      ]
    },
    {
      "cell_type": "markdown",
      "source": [
        "one way anova to find difference between MFD related words in each set of tweets"
      ],
      "metadata": {
        "id": "iDJN03xcDYfJ"
      }
    },
    {
      "cell_type": "code",
      "source": [
        "import scipy as sp\n",
        "import csv # when you need to read csv data\n",
        "from scipy import stats as st\n",
        "import statsmodels.formula.api as smf\n",
        "import statsmodels.api as sm\n",
        "import statsmodels.stats.anova as anova #for ANOVA\n",
        "from statsmodels.stats.multicomp import pairwise_tukeyhsd #for Tukey's multiple comparisons"
      ],
      "metadata": {
        "id": "JgSUjL50R1TS"
      },
      "execution_count": null,
      "outputs": []
    },
    {
      "cell_type": "code",
      "source": [
        "sa=50\n",
        "f, p = st.f_oneway(tdata['Care'].sample(sa),tdata['Fairness'].sample(sa),tdata['Loyalty'].sample(sa)\n",
        ",tdata['Authority'].sample(sa),tdata['Purity'].sample(sa),tdata['Freedom'].sample(sa),tdata['Qeirat'].sample(sa))\n",
        "print(\"F=%f, p-value = %f\"%(f,p))"
      ],
      "metadata": {
        "colab": {
          "base_uri": "https://localhost:8080/"
        },
        "id": "3NDMhO8FSB9T",
        "outputId": "ee759652-f00e-4e22-bd06-8d40f452b4fa"
      },
      "execution_count": null,
      "outputs": [
        {
          "output_type": "stream",
          "name": "stdout",
          "text": [
            "F=40.292271, p-value = 0.000000\n"
          ]
        }
      ]
    },
    {
      "cell_type": "code",
      "source": [
        "def tukey_hsd(group_names , *args ):\n",
        "    endog = np.hstack(args)\n",
        "    groups_list = []\n",
        "    for i in range(len(args)):\n",
        "        for j in range(len(args[i])):\n",
        "            groups_list.append(group_names[i])\n",
        "    groups = np.array(groups_list)\n",
        "    res = pairwise_tukeyhsd(endog, groups)\n",
        "    print (res.pvalues) #print only p-value\n",
        "    print(res) #print result"
      ],
      "metadata": {
        "id": "g30opGMKSGx3"
      },
      "execution_count": null,
      "outputs": []
    },
    {
      "cell_type": "code",
      "source": [
        "sam=sa\n",
        "print(tukey_hsd(['Care', 'Fairness', 'Loyalty','Authority','Purity','Freedom','Qeirat'],\n",
        "                tdata['Care'].sample(sam),tdata['Fairness'].sample(sam),tdata['Loyalty'].sample(sam),\n",
        "                tdata['Authority'].sample(sam),tdata['Purity'].sample(sam),tdata['Freedom'].sample(sam),tdata['Qeirat'].sample(sam)))"
      ],
      "metadata": {
        "colab": {
          "base_uri": "https://localhost:8080/"
        },
        "id": "424ISfXbSfx6",
        "outputId": "2370f6a7-4c91-4b24-8ea7-d2b7828e50f5"
      },
      "execution_count": null,
      "outputs": [
        {
          "output_type": "stream",
          "name": "stdout",
          "text": [
            "[0.9   0.9   0.9   0.9   0.9   0.001 0.9   0.9   0.9   0.9   0.001 0.9\n",
            " 0.9   0.9   0.001 0.9   0.9   0.001 0.9   0.001 0.001]\n",
            "  Multiple Comparison of Means - Tukey HSD, FWER=0.05  \n",
            "=======================================================\n",
            "  group1   group2  meandiff p-adj  lower  upper  reject\n",
            "-------------------------------------------------------\n",
            "Authority     Care  -0.0023   0.9 -0.2023 0.1977  False\n",
            "Authority Fairness   0.0084   0.9 -0.1915 0.2084  False\n",
            "Authority  Freedom   0.0337   0.9 -0.1663 0.2336  False\n",
            "Authority  Loyalty   0.0325   0.9 -0.1675 0.2325  False\n",
            "Authority   Purity   0.0002   0.9 -0.1997 0.2002  False\n",
            "Authority   Qeirat   0.8926 0.001  0.6926 1.0925   True\n",
            "     Care Fairness   0.0108   0.9 -0.1892 0.2107  False\n",
            "     Care  Freedom    0.036   0.9  -0.164 0.2359  False\n",
            "     Care  Loyalty   0.0348   0.9 -0.1652 0.2348  False\n",
            "     Care   Purity   0.0026   0.9 -0.1974 0.2025  False\n",
            "     Care   Qeirat   0.8949 0.001  0.6949 1.0948   True\n",
            " Fairness  Freedom   0.0252   0.9 -0.1747 0.2252  False\n",
            " Fairness  Loyalty    0.024   0.9 -0.1759  0.224  False\n",
            " Fairness   Purity  -0.0082   0.9 -0.2082 0.1918  False\n",
            " Fairness   Qeirat   0.8841 0.001  0.6842 1.0841   True\n",
            "  Freedom  Loyalty  -0.0012   0.9 -0.2011 0.1988  False\n",
            "  Freedom   Purity  -0.0334   0.9 -0.2334 0.1665  False\n",
            "  Freedom   Qeirat   0.8589 0.001  0.6589 1.0589   True\n",
            "  Loyalty   Purity  -0.0322   0.9 -0.2322 0.1677  False\n",
            "  Loyalty   Qeirat   0.8601 0.001  0.6601   1.06   True\n",
            "   Purity   Qeirat   0.8923 0.001  0.6924 1.0923   True\n",
            "-------------------------------------------------------\n",
            "None\n"
          ]
        }
      ]
    },
    {
      "cell_type": "code",
      "source": [
        ""
      ],
      "metadata": {
        "id": "e9Cg7aSrS-kx"
      },
      "execution_count": null,
      "outputs": []
    },
    {
      "cell_type": "code",
      "source": [
        ""
      ],
      "metadata": {
        "id": "yRDjez34f6vQ"
      },
      "execution_count": null,
      "outputs": []
    },
    {
      "cell_type": "code",
      "source": [
        ""
      ],
      "metadata": {
        "id": "NHB-uP-0f6wv"
      },
      "execution_count": null,
      "outputs": []
    },
    {
      "cell_type": "code",
      "source": [
        ""
      ],
      "metadata": {
        "id": "ejkewj5ef6zb"
      },
      "execution_count": null,
      "outputs": []
    },
    {
      "cell_type": "markdown",
      "source": [
        "Dataset analysis"
      ],
      "metadata": {
        "id": "zoxxQSjzf7r9"
      }
    },
    {
      "cell_type": "code",
      "source": [
        "dft= pd.read_excel('pMFTC_V2.xlsx')\n",
        "len(dft)"
      ],
      "metadata": {
        "id": "nSRO2EBpf_HX",
        "colab": {
          "base_uri": "https://localhost:8080/"
        },
        "outputId": "4e67d127-c560-4f4e-ff72-8b392571f904"
      },
      "execution_count": null,
      "outputs": [
        {
          "output_type": "execute_result",
          "data": {
            "text/plain": [
              "5998"
            ]
          },
          "metadata": {},
          "execution_count": 606
        }
      ]
    },
    {
      "cell_type": "code",
      "source": [
        "print('Number of tweets not related to any foundation  is '+str(len(dft[dft['Label']==0])) )\n",
        "\n",
        "for k in range(1,8):\n",
        "  print('Number of tweets related to #'+str(k)+' foundation is '+str(len(dft[dft['Label']==k])) )\n"
      ],
      "metadata": {
        "colab": {
          "base_uri": "https://localhost:8080/"
        },
        "id": "qdCLAgJYgK9f",
        "outputId": "1c387678-ccd1-49fc-a4a3-eea138093abe"
      },
      "execution_count": null,
      "outputs": [
        {
          "output_type": "stream",
          "name": "stdout",
          "text": [
            "Number of tweets not related to any foundation  is 1873\n",
            "Number of tweets related to #1 foundation is 2059\n",
            "Number of tweets related to #2 foundation is 864\n",
            "Number of tweets related to #3 foundation is 461\n",
            "Number of tweets related to #4 foundation is 395\n",
            "Number of tweets related to #5 foundation is 181\n",
            "Number of tweets related to #6 foundation is 99\n",
            "Number of tweets related to #7 foundation is 66\n"
          ]
        }
      ]
    },
    {
      "cell_type": "code",
      "source": [
        "#Correction for bad freedom tags in dataset\n",
        "\n",
        "\n",
        "'''\n",
        "freedom_labeled_data=dft[dft['Label']==6]\n",
        "freedom_labeled_tweets=freedom_labeled_data['Tweet']\n",
        "fr_index=freedom_labeled_tweets.index[:].tolist()\n",
        "\n",
        "dft_without_fr=dft.drop(fr_index,axis=0,inplace=False)\n",
        "dc_z=pd.read_excel('double_check_zandi (1).xlsx')\n",
        "dc_n=pd.read_excel('double_check_nabi (1).xlsx')\n",
        "dc_t=pd.read_excel('double_check_torkaman (1).xlsx')\n",
        "p1_z=dc_z['p1']\n",
        "p1_n=dc_n['p1']\n",
        "p1_t=dc_t['p1']\n",
        "nrw_lab=[Counter([p1_z[k],p1_n[k],p1_t[k]]).most_common()[0][0] for k in range(212)]\n",
        "new_lab=to_foundation(nrw_lab)\n",
        "nd={'Tweet':freedom_labeled_tweets.tolist(),'Label':new_lab}\n",
        "review_fr=df.from_dict(nd)\n",
        "new_pmftc=pd.concat([review_fr,dft_without_fr],axis=0)\n",
        "new_pmftc.to_excel('pMFTC_V2.xlsx', header=True, index=False)\n",
        "from google.colab import files\n",
        "files.download('pMFTC_V2.xlsx')\n",
        "\n",
        "'''"
      ],
      "metadata": {
        "id": "-4dGVv5zoqZu",
        "colab": {
          "base_uri": "https://localhost:8080/",
          "height": 122
        },
        "outputId": "9c8d5ea0-f44a-4f70-f309-27e0e7e7b1f2"
      },
      "execution_count": null,
      "outputs": [
        {
          "output_type": "execute_result",
          "data": {
            "text/plain": [
              "\"\\nfreedom_labeled_data=dft[dft['Label']==6]\\nfreedom_labeled_tweets=freedom_labeled_data['Tweet']\\nfr_index=freedom_labeled_tweets.index[:].tolist()\\n\\ndft_without_fr=dft.drop(fr_index,axis=0,inplace=False)\\ndc_z=pd.read_excel('double_check_zandi (1).xlsx')\\ndc_n=pd.read_excel('double_check_nabi (1).xlsx')\\ndc_t=pd.read_excel('double_check_torkaman (1).xlsx')\\np1_z=dc_z['p1']\\np1_n=dc_n['p1']\\np1_t=dc_t['p1']\\nnrw_lab=[Counter([p1_z[k],p1_n[k],p1_t[k]]).most_common()[0][0] for k in range(212)]\\nnew_lab=to_foundation(nrw_lab)\\nnd={'Tweet':freedom_labeled_tweets.tolist(),'Label':new_lab}\\nreview_fr=df.from_dict(nd)\\nnew_pmftc=pd.concat([review_fr,dft_without_fr],axis=0)\\nnew_pmftc.to_excel('pMFTC_V2.xlsx', header=True, index=False)\\nfrom google.colab import files\\nfiles.download('pMFTC_V2.xlsx')\\n\\n\""
            ],
            "application/vnd.google.colaboratory.intrinsic+json": {
              "type": "string"
            }
          },
          "metadata": {},
          "execution_count": 608
        }
      ]
    },
    {
      "cell_type": "code",
      "source": [
        ""
      ],
      "metadata": {
        "id": "CN82AwpRpqr0"
      },
      "execution_count": null,
      "outputs": []
    },
    {
      "cell_type": "code",
      "source": [
        ""
      ],
      "metadata": {
        "id": "s9NdrhOVqIfU"
      },
      "execution_count": null,
      "outputs": []
    },
    {
      "cell_type": "code",
      "source": [
        ""
      ],
      "metadata": {
        "id": "KRBoAyQ1uhVQ"
      },
      "execution_count": null,
      "outputs": []
    },
    {
      "cell_type": "code",
      "source": [
        ""
      ],
      "metadata": {
        "id": "DycbLdqPpqhH"
      },
      "execution_count": null,
      "outputs": []
    },
    {
      "cell_type": "code",
      "source": [
        ""
      ],
      "metadata": {
        "id": "mxx700IzvsNf"
      },
      "execution_count": null,
      "outputs": []
    },
    {
      "cell_type": "code",
      "source": [
        "\n"
      ],
      "metadata": {
        "id": "15blPshbw6My"
      },
      "execution_count": null,
      "outputs": []
    },
    {
      "cell_type": "code",
      "source": [
        "'''\n",
        "from google.colab import drive\n",
        "drive.mount('/content/drive')\n",
        "'''"
      ],
      "metadata": {
        "colab": {
          "base_uri": "https://localhost:8080/",
          "height": 35
        },
        "id": "GwbYMVJI3oJT",
        "outputId": "577c0485-85f3-475a-9577-199eda53fdff"
      },
      "execution_count": null,
      "outputs": [
        {
          "output_type": "execute_result",
          "data": {
            "text/plain": [
              "\"\\nfrom google.colab import drive\\ndrive.mount('/content/drive')\\n\""
            ],
            "application/vnd.google.colaboratory.intrinsic+json": {
              "type": "string"
            }
          },
          "metadata": {},
          "execution_count": 609
        }
      ]
    },
    {
      "cell_type": "code",
      "source": [
        "'''\n",
        "freedom_labeled_tweets.to_excel('double_check.xlsx', header=True, index=False)\n",
        "from google.colab import files\n",
        "files.download('double_check.xlsx')\n",
        "'''"
      ],
      "metadata": {
        "colab": {
          "base_uri": "https://localhost:8080/",
          "height": 53
        },
        "id": "F1ObSaQf6N32",
        "outputId": "5f7b0770-b2d8-4e5b-a73e-fd3bfa94fb5c"
      },
      "execution_count": null,
      "outputs": [
        {
          "output_type": "execute_result",
          "data": {
            "text/plain": [
              "\"\\nfreedom_labeled_tweets.to_excel('double_check.xlsx', header=True, index=False)\\nfrom google.colab import files\\nfiles.download('double_check.xlsx')\\n\""
            ],
            "application/vnd.google.colaboratory.intrinsic+json": {
              "type": "string"
            }
          },
          "metadata": {},
          "execution_count": 610
        }
      ]
    },
    {
      "cell_type": "code",
      "source": [
        ""
      ],
      "metadata": {
        "id": "0HYSLCPFEDuq"
      },
      "execution_count": null,
      "outputs": []
    }
  ]
}